{
 "cells": [
  {
   "cell_type": "markdown",
   "metadata": {
    "id": "2HpKY32aha07"
   },
   "source": [
    "# PRIA - Examen PYTHON 09/12/2024 - TOTAL 30 Puntos"
   ]
  },
  {
   "cell_type": "markdown",
   "metadata": {
    "id": "dl2_sxL1rLqM"
   },
   "source": [
    "\n",
    "## UD01 - INTRODUCCIÓN PROGRAMACIÓN PYTHON y  LIBRERIAS PYTHON"
   ]
  },
  {
   "cell_type": "markdown",
   "metadata": {},
   "source": [
    "---\n",
    "## Ejercicio 1 - Importación de librerias- 1 Punto"
   ]
  },
  {
   "cell_type": "markdown",
   "metadata": {},
   "source": [
    "Como siempre, antes de empezar, importa todas las librerías que necesitas para trabajar: numpy, pandas y matplot.pyplot con los nombres reconocidos para cada uno."
   ]
  },
  {
   "cell_type": "code",
   "execution_count": 2,
   "metadata": {},
   "outputs": [],
   "source": [
    "import matplotlib.pyplot as plt\n",
    "import numpy as np\n",
    "import pandas as pd\n",
    "import seaborn as sns\n"
   ]
  },
  {
   "cell_type": "markdown",
   "metadata": {},
   "source": [
    "---\n",
    "## Ejercicio 2 - Excepciones - 3 Puntos"
   ]
  },
  {
   "cell_type": "markdown",
   "metadata": {},
   "source": [
    "Tenemos el siguiente fragmento de codigo que fuerza una división entre 0. Para ello se pide el divisor al usuario por pantalla. Para poder utilizar este codigo adecuadamente deberemos incluir las siguientes instrucciones para controlar errores: \n",
    "\n",
    "* Código\n",
    "    \n",
    "    divisor= input(\"Introduzca el divisor:\")\n",
    "    x = 2/int(divisor)\n",
    "\n",
    "* Intrucciones a seguir:\n",
    "    \n",
    "    * Incluir un control de excepciones\n",
    "    * Controlar errores de división por zero -> Mostrar mensaje \"No se ha podido realizar la división por dividir por cero\"\n",
    "    * Controlar mensaje a mostrar si la división va bien -> Mostrar mensaje \"La división se ejecuta correctamente\" siempre que no haya excepciones\n",
    "    * Bloque que se muestre siempre al finalizar el proceso -> Mostrar mensaje \"Entra en la última parte, se ejecuta el bloque siempre\"\n",
    "\n"
   ]
  },
  {
   "cell_type": "code",
   "execution_count": 3,
   "metadata": {},
   "outputs": [
    {
     "name": "stdout",
     "output_type": "stream",
     "text": [
      "La división se ejecuta correctamente\n",
      "Entra en la última parte, se ejecuta el bloque siempre\n"
     ]
    }
   ],
   "source": [
    "def division():\n",
    "    try:\n",
    "        divisor= input(\"Introduzca el divisor:\")\n",
    "        x = 2/int(divisor)\n",
    "        print(\"La división se ejecuta correctamente\")\n",
    "    except ZeroDivisionError:\n",
    "        print(\"No se ha podido realizar la división por dividir por cero\")\n",
    "    # En teoría con esto ya cumplimos el enunciado, pero como pone \"incluir un control de excepciones añado alguna más\"\n",
    "    except ArithmeticError:\n",
    "        print(\"No se ha podido realizar la división por un error en una operación numérica\")\n",
    "    except KeyboardInterrupt:\n",
    "        print(\"No se ha podido realizar la división, se ha interrumpido la ejecución\")\n",
    "    except ValueError:\n",
    "        print(\"No se ha podido realizar la división, el valor introducido no es un número\")\n",
    "    finally:\n",
    "        print(\"Entra en la última parte, se ejecuta el bloque siempre\")\n",
    "division()\n"
   ]
  },
  {
   "cell_type": "markdown",
   "metadata": {},
   "source": [
    "---\n",
    "## Ejercicio 3 - Creación y manejo de una clase Alumno - 6 Puntos"
   ]
  },
  {
   "cell_type": "markdown",
   "metadata": {},
   "source": [
    "Realizar un programa que conste de una clase llamada Alumno que tenga como atributos el nombre y la nota del alumno. Definir los siguientes métodos:\n",
    "\n",
    "1. Definir la clase Alumno:\n",
    "\n",
    "* **Atributos:**\n",
    "    * nombre: nombre del alumno.\n",
    "    * nota: calificación obtenida por el alumno.\n",
    "* **Métodos:**\n",
    "    * Método constructor: Inicializa el nombre y la nota del alumno.\n",
    "    * Sobrescritura del método to_string: Devuelve una representación amigable de los atributos del alumno.\n",
    "    * Método de instancia `mostrar_detalle()`: Imprime los atributos con la frase: \"El alumno XXX ha sacado la nota YYY.\"\n",
    "    * Método de clase `asignar_nota_aleatoria(cls, nombre)`: Crea un nuevo alumno con una nota aleatoria entre 0 y 10.\n",
    "    * Método estático `comparar_notas(alumno1, alumno2)`: Compara las notas de dos alumnos y devuelve un mensaje indicando cuál tiene la mayor nota, o si están empatados.\n",
    "2. Crear dos objetos:\n",
    "    * Uno utilizando el constructor normal.\n",
    "    * Otro utilizando el método de clase.\n",
    "3. Utilizar los métodos:\n",
    "    * Mostrar los detalles de ambos alumnos.\n",
    "    * Comparar sus notas con el método estático.\n"
   ]
  },
  {
   "cell_type": "code",
   "execution_count": 54,
   "metadata": {},
   "outputs": [
    {
     "name": "stdout",
     "output_type": "stream",
     "text": [
      "El alumno Asier ha sacado la nota 9\n",
      "None\n",
      "El alumno Aintzane ha sacado la nota 4\n",
      "None\n",
      "La nota1 ( 9 ) es mayor que nota2 ( 4 )\n"
     ]
    }
   ],
   "source": [
    "class Alumno():\n",
    "    def __init__(self, nombre, nota):\n",
    "        self.nombre = nombre\n",
    "        self.nota = nota\n",
    "    def __str__(self):\n",
    "        strAlumno = \"Nombre: {} \\n Nota:{}\",self.nombre,self.nota\n",
    "        return strAlumno\n",
    "    def mostrarDetalle(self):        \n",
    "        return print(f\"El alumno {self.nombre} ha sacado la nota {self.nota}\")\n",
    "\n",
    "    @classmethod\n",
    "    def asignar_nota_aleatoria(cls,nombre):\n",
    "        nota = np.random.randint(0, 11)\n",
    "        return Alumno(nombre,nota)\n",
    "    \n",
    "    @staticmethod  \n",
    "    def comprarar_notas(nota1, nota2):\n",
    "        if(nota1>nota2):\n",
    "            print(\"La nota1 (\",nota1,\") es mayor que nota2 (\",nota2,\")\")\n",
    "        else:\n",
    "            if(nota2>nota1):\n",
    "                print(\"La nota2 (\",nota1,\") es mayor que nota1 (\",nota2,\")\")   \n",
    "            else:\n",
    "                print(\"Las dos notas son iguales\") \n",
    "\n",
    "alumno1 = Alumno(\"Asier\",9)\n",
    "alumno2 = Alumno.asignar_nota_aleatoria(\"Aintzane\")\n",
    "\n",
    "print(alumno1.mostrarDetalle())\n",
    "print(alumno2.mostrarDetalle())\n",
    "\n",
    "Alumno.comprarar_notas(alumno1.nota,alumno2.nota)"
   ]
  },
  {
   "cell_type": "markdown",
   "metadata": {
    "id": "jKx-RWxVrTvP"
   },
   "source": [
    "---\n",
    "## Ejercicio 4 - Operaciones con Matrices - 4 Puntos"
   ]
  },
  {
   "cell_type": "markdown",
   "metadata": {
    "id": "49hRG_zFrUTq"
   },
   "source": [
    "**Parte 1(2 puntos):** \n",
    "Genera una matriz (100 filas x 6 columnas) de números enteros aleatorios del 0 al 9 con NumPy. Muestra(imprime) la siguiente información de la misma:\n",
    "\n",
    "*   Tamaño (cantidad de elementos en total)\n",
    "*   Forma\n",
    "*   Todos los valores entre las filas 25 y 27 (ambas incluídas) en una sola linea y sin utilizar bucles\n",
    "*   Todos los valores de atras adelante en una sola linea y sin utilizar bucles"
   ]
  },
  {
   "cell_type": "code",
   "execution_count": 5,
   "metadata": {},
   "outputs": [
    {
     "name": "stdout",
     "output_type": "stream",
     "text": [
      "600\n",
      "(100, 6)\n",
      "[[3 7 1 5 3 6]\n",
      " [3 8 8 8 7 8]\n",
      " [3 0 0 8 2 1]\n",
      " [1 3 1 9 5 7]\n",
      " [9 8 0 8 6 7]\n",
      " [7 3 7 5 6 5]\n",
      " [8 6 3 2 4 3]\n",
      " [3 4 0 9 6 4]\n",
      " [7 1 4 7 7 1]\n",
      " [9 4 6 5 1 1]\n",
      " [2 9 2 8 7 2]\n",
      " [0 8 0 7 9 9]\n",
      " [3 5 9 0 9 7]\n",
      " [9 9 2 2 1 8]\n",
      " [0 3 3 4 0 0]\n",
      " [9 7 2 4 1 0]\n",
      " [9 3 0 0 5 3]\n",
      " [4 9 4 5 8 7]\n",
      " [1 4 6 6 9 4]\n",
      " [0 6 9 7 1 6]\n",
      " [1 3 9 1 4 8]\n",
      " [3 4 1 6 5 3]\n",
      " [9 6 8 8 6 8]\n",
      " [2 5 4 8 3 6]\n",
      " [1 0 5 0 2 9]\n",
      " [1 1 0 0 3 6]\n",
      " [4 6 8 5 3 1]\n",
      " [7 1 7 6 7 9]\n",
      " [6 2 3 3 5 2]\n",
      " [3 0 5 8 9 8]\n",
      " [2 1 3 6 0 4]\n",
      " [5 7 8 5 8 6]\n",
      " [9 5 4 4 4 7]\n",
      " [1 0 6 0 5 8]\n",
      " [4 8 7 1 3 0]\n",
      " [6 7 3 3 3 8]\n",
      " [0 5 5 2 9 5]\n",
      " [2 4 3 8 3 7]\n",
      " [1 9 5 7 0 5]\n",
      " [1 8 6 7 1 3]\n",
      " [8 4 7 6 7 5]\n",
      " [0 6 7 1 0 3]\n",
      " [2 4 6 4 9 9]\n",
      " [8 6 0 0 7 5]\n",
      " [0 8 0 5 9 9]\n",
      " [5 0 9 0 7 2]\n",
      " [5 8 6 2 6 9]\n",
      " [7 7 3 9 2 2]\n",
      " [3 0 3 6 9 0]\n",
      " [0 7 2 7 8 0]\n",
      " [9 4 3 1 7 3]\n",
      " [1 3 0 0 1 9]\n",
      " [4 4 1 0 5 1]\n",
      " [4 3 9 5 0 5]\n",
      " [2 0 3 6 3 1]\n",
      " [6 4 4 6 5 3]\n",
      " [6 2 4 7 4 5]\n",
      " [8 5 2 0 2 7]\n",
      " [2 4 4 8 0 5]\n",
      " [8 0 3 5 2 4]\n",
      " [4 1 6 9 1 2]\n",
      " [3 1 2 4 2 7]\n",
      " [4 5 4 8 1 7]\n",
      " [9 5 8 6 5 9]\n",
      " [1 2 6 2 1 3]\n",
      " [8 9 8 5 7 4]\n",
      " [3 0 2 1 2 1]\n",
      " [4 0 0 9 1 6]\n",
      " [3 4 6 8 2 5]\n",
      " [6 2 3 5 8 6]\n",
      " [1 1 5 6 2 2]\n",
      " [0 1 9 0 0 9]\n",
      " [8 6 2 3 8 6]\n",
      " [2 0 6 7 5 0]\n",
      " [5 4 8 8 7 5]\n",
      " [8 2 6 1 1 5]\n",
      " [0 9 5 3 0 1]\n",
      " [4 2 8 3 7 4]\n",
      " [0 0 3 8 1 5]\n",
      " [2 3 2 2 3 9]\n",
      " [4 2 7 0 8 5]\n",
      " [3 7 7 4 1 5]\n",
      " [9 6 6 3 2 1]\n",
      " [3 0 9 5 1 2]\n",
      " [6 2 6 5 4 2]\n",
      " [0 0 6 2 3 8]\n",
      " [1 1 4 4 9 3]\n",
      " [6 2 7 3 3 5]\n",
      " [2 4 1 5 1 1]\n",
      " [6 9 0 8 1 0]\n",
      " [7 4 6 9 3 7]\n",
      " [5 8 7 1 6 6]\n",
      " [6 9 1 7 6 9]\n",
      " [9 5 0 5 7 0]\n",
      " [8 3 1 4 2 4]\n",
      " [5 6 7 7 2 9]\n",
      " [0 2 7 7 5 5]\n",
      " [2 3 4 2 7 4]\n",
      " [3 2 2 4 5 8]\n",
      " [6 3 8 2 2 5]]\n"
     ]
    }
   ],
   "source": [
    "# Como me pide generarlo con NumPy, voy a crear 100 listas de 6 elementos aleatorios y después lo hago matriz\n",
    "\n",
    "filas =[]\n",
    "for i in range(100):\n",
    "    fila=[]\n",
    "    for j in range(6):\n",
    "        fila.append(np.random.randint(0, 10))\n",
    "    filas.append(fila)\n",
    "\n",
    "M = np.matrix(filas)\n",
    "# Tamaño\n",
    "print(M.size)\n",
    "\n",
    "# Forma\n",
    "print(M.shape)\n",
    "\n",
    "# Valores entre filas 25 y 27\n",
    "M[25:28]\n",
    "\n",
    "# Valores reverse\n",
    "print(M[::-1])\n"
   ]
  },
  {
   "cell_type": "markdown",
   "metadata": {},
   "source": [
    "**Parte 2(2 puntos):**\n",
    "1. Crea dos matrices:\n",
    "    * Una matriz de ceros de tamaño 4x4.\n",
    "    * Una matriz de unos de tamaño 4x4.\n",
    "2. Concatenaciones:\n",
    "    * Concatenar las matrices por filas (una debajo de la otra) \n",
    "    * Concatenar las matrices por columnas (una al lado de la otra)\n",
    "3. Operaciones con las matrices:\n",
    "    * Suma la matriz de ceros y la matriz de unos para obtener una nueva matriz.\n",
    "    * Multiplica la matriz de ceros y la matriz de unos. Analiza el resultado.\n",
    "4. Muestra los siguiente información:\n",
    "    * \"Tamaño de la matriz de ceros:\"\n",
    "    * \"Forma(dimensiones) de la matriz de unos:\"\n",
    "    * \"Tipo de datos de la matriz de 0s:\"\n",
    "    * \"Tipo de datos de la matriz de 1s:\"\n",
    "    * \"Matriz concatenada por filas:\\n\"\n",
    "    * \"Matriz concatenada por columnas:\\n\"\n",
    "    * \"Matriz sumada:\\n\"\n",
    "    * \"Matriz multiplicada:\\n\""
   ]
  },
  {
   "cell_type": "markdown",
   "metadata": {},
   "source": [
    "Matrices de 0 y 1"
   ]
  },
  {
   "cell_type": "code",
   "execution_count": 6,
   "metadata": {
    "colab": {
     "base_uri": "https://localhost:8080/"
    },
    "executionInfo": {
     "elapsed": 3,
     "status": "ok",
     "timestamp": 1637831539615,
     "user": {
      "displayName": "Mikel Aingeru Jorge Soteras",
      "photoUrl": "https://lh3.googleusercontent.com/a/default-user=s64",
      "userId": "17327455162631325979"
     },
     "user_tz": -60
    },
    "id": "qz-NqWPrrUiW",
    "outputId": "de030d7b-bae5-4c20-987b-5a6e238a7984"
   },
   "outputs": [
    {
     "name": "stdout",
     "output_type": "stream",
     "text": [
      "[[0. 0. 0. 0.]\n",
      " [0. 0. 0. 0.]\n",
      " [0. 0. 0. 0.]\n",
      " [0. 0. 0. 0.]]\n",
      "[[1. 1. 1. 1.]\n",
      " [1. 1. 1. 1.]\n",
      " [1. 1. 1. 1.]\n",
      " [1. 1. 1. 1.]]\n"
     ]
    }
   ],
   "source": [
    "C = np.zeros((4, 4))  # Matriz nula de dimensiones 4 x 4\n",
    "print(C)\n",
    "\n",
    "E = np.ones((4, 4))  # Matriz de unos de dimensiones 4 x 4\n",
    "print(E)"
   ]
  },
  {
   "cell_type": "markdown",
   "metadata": {},
   "source": [
    "Concatenación de matrices"
   ]
  },
  {
   "cell_type": "code",
   "execution_count": 44,
   "metadata": {},
   "outputs": [
    {
     "name": "stdout",
     "output_type": "stream",
     "text": [
      "[[0. 0. 0. 0.]\n",
      " [1. 1. 1. 1.]\n",
      " [0. 0. 0. 0.]\n",
      " [1. 1. 1. 1.]\n",
      " [0. 0. 0. 0.]\n",
      " [1. 1. 1. 1.]\n",
      " [0. 0. 0. 0.]\n",
      " [1. 1. 1. 1.]]\n"
     ]
    }
   ],
   "source": [
    "concat = []\n",
    "for i in range (len(C)):\n",
    "    concat.append(C[i])\n",
    "    concat.append(E[i])\n",
    "Concat = np.matrix(concat)\n",
    "print(Concat)"
   ]
  },
  {
   "cell_type": "markdown",
   "metadata": {},
   "source": [
    "Operaciones de matrices"
   ]
  },
  {
   "cell_type": "code",
   "execution_count": 31,
   "metadata": {},
   "outputs": [
    {
     "name": "stdout",
     "output_type": "stream",
     "text": [
      "[[1. 1. 1. 1.]\n",
      " [1. 1. 1. 1.]\n",
      " [1. 1. 1. 1.]\n",
      " [1. 1. 1. 1.]]\n"
     ]
    }
   ],
   "source": [
    "print(C+E)"
   ]
  },
  {
   "cell_type": "code",
   "execution_count": 32,
   "metadata": {},
   "outputs": [
    {
     "name": "stdout",
     "output_type": "stream",
     "text": [
      "[[0. 0. 0. 0.]\n",
      " [0. 0. 0. 0.]\n",
      " [0. 0. 0. 0.]\n",
      " [0. 0. 0. 0.]]\n"
     ]
    }
   ],
   "source": [
    "print(C*E)"
   ]
  },
  {
   "cell_type": "markdown",
   "metadata": {},
   "source": [
    "Lógico si tenemos en cuenta que 0+1 = 1 y 0*1 = 0"
   ]
  },
  {
   "cell_type": "markdown",
   "metadata": {},
   "source": [
    "Información"
   ]
  },
  {
   "cell_type": "code",
   "execution_count": 36,
   "metadata": {},
   "outputs": [
    {
     "name": "stdout",
     "output_type": "stream",
     "text": [
      "\n",
      "Tamaño de la matriz de ceros:\n",
      "16\n"
     ]
    }
   ],
   "source": [
    "print(\"\\nTamaño de la matriz de ceros:\")\n",
    "print(C.size)"
   ]
  },
  {
   "cell_type": "code",
   "execution_count": 37,
   "metadata": {},
   "outputs": [
    {
     "name": "stdout",
     "output_type": "stream",
     "text": [
      "\n",
      "Forma(dimensiones) de la matriz de unos:\n",
      "(4, 4)\n"
     ]
    }
   ],
   "source": [
    "print(\"\\nForma(dimensiones) de la matriz de unos:\")\n",
    "print(E.shape)"
   ]
  },
  {
   "cell_type": "code",
   "execution_count": 39,
   "metadata": {},
   "outputs": [
    {
     "name": "stdout",
     "output_type": "stream",
     "text": [
      "Tipo de datos de la matriz de 0s:\n",
      "float64\n"
     ]
    }
   ],
   "source": [
    "print(\"Tipo de datos de la matriz de 0s:\")\n",
    "print(C.dtype)"
   ]
  },
  {
   "cell_type": "code",
   "execution_count": 40,
   "metadata": {},
   "outputs": [
    {
     "name": "stdout",
     "output_type": "stream",
     "text": [
      "Tipo de datos de la matriz de 1s:\n",
      "float64\n"
     ]
    }
   ],
   "source": [
    "print(\"Tipo de datos de la matriz de 1s:\")\n",
    "print(E.dtype)"
   ]
  },
  {
   "cell_type": "code",
   "execution_count": null,
   "metadata": {},
   "outputs": [],
   "source": [
    "print(\"Matriz sumada:\")\n",
    "print(C+E)"
   ]
  },
  {
   "cell_type": "code",
   "execution_count": null,
   "metadata": {},
   "outputs": [],
   "source": [
    "print(\"Matriz sumada:\")\n",
    "print(C*E)"
   ]
  },
  {
   "cell_type": "markdown",
   "metadata": {
    "id": "IHQyY4iorbDV"
   },
   "source": [
    "---\n",
    "## Ejercicio 5 - Manejo de la información con Dataframes - 6 puntos"
   ]
  },
  {
   "cell_type": "markdown",
   "metadata": {
    "id": "znWcQDjLrb3M"
   },
   "source": [
    "**Intrucciones:**\n",
    "* Carga el archivo `06-vg_sales.csv` en un DataFrame con Pandas.\n",
    "* Realiza las siguientes operaciones y muestra los resultados por pantalla:\n",
    "    * Muestra la forma del DataFrame (número de filas y columnas).\n",
    "    * Obtén el índice (index) del DataFrame.\n",
    "    * Calcula el número de filas.\n",
    "    * Calcula la media de la columna JP_Sales.\n",
    "    * Encuentra el valor máximo de la columna NA_Sales.\n",
    "    * Encuentra el valor mínimo de la columna EU_Sales.\n",
    "    * Filtra y muestra las 5 últimas filas correspondientes al año 2006.\n",
    "    * Muestra las 5 primeras filas con índices pares.\n",
    "    * Obtén la información general del DataFrame (info()).\n",
    "    * Calcula y muestra los datos estadísticos del DataFrame (describe()).\n",
    "    * Muestra los 5 primeros elementos del DataFrame.\n",
    "    * Muestra los 5 últimos elementos del DataFrame.\n",
    "\n",
    "** Nota: Si alguno de los metodos utilizados diera un Warning añadir a los metodos el siguiente valor -> numeric_only=True\n"
   ]
  },
  {
   "cell_type": "code",
   "execution_count": 7,
   "metadata": {
    "colab": {
     "base_uri": "https://localhost:8080/"
    },
    "executionInfo": {
     "elapsed": 1077,
     "status": "ok",
     "timestamp": 1637913786685,
     "user": {
      "displayName": "Mikel Aingeru Jorge Soteras",
      "photoUrl": "https://lh3.googleusercontent.com/a/default-user=s64",
      "userId": "17327455162631325979"
     },
     "user_tz": -60
    },
    "id": "ra3tRJvHrcM7",
    "outputId": "c4984b7a-866d-4a5f-ddf2-366c078d57a5"
   },
   "outputs": [],
   "source": [
    "def cargarCSV():\n",
    "    try:\n",
    "        return pd.read_csv(\"Recursos/06-vg_sales.csv\")\n",
    "    except:\n",
    "        print(\"Fichero no encontrado\")\n",
    "\n",
    "dataframe = cargarCSV()"
   ]
  },
  {
   "cell_type": "code",
   "execution_count": 8,
   "metadata": {},
   "outputs": [
    {
     "name": "stdout",
     "output_type": "stream",
     "text": [
      "(16598, 11)\n"
     ]
    }
   ],
   "source": [
    "# Forma del dataframe\n",
    "print(dataframe.shape)\n",
    "\n",
    "\n"
   ]
  },
  {
   "cell_type": "code",
   "execution_count": 9,
   "metadata": {},
   "outputs": [
    {
     "name": "stdout",
     "output_type": "stream",
     "text": [
      "RangeIndex(start=0, stop=16598, step=1)\n"
     ]
    }
   ],
   "source": [
    "# Índice del dataframe\n",
    "print(dataframe.index)\n"
   ]
  },
  {
   "cell_type": "code",
   "execution_count": 10,
   "metadata": {},
   "outputs": [
    {
     "name": "stdout",
     "output_type": "stream",
     "text": [
      "16598\n"
     ]
    }
   ],
   "source": [
    "# Lo tenía así hasta que se ha dicho de hacer con una función\n",
    "# Número de filas\n",
    "#nrows = dataframe.shape[0]\n",
    "#print(nrows)\n",
    "print(len(dataframe))"
   ]
  },
  {
   "cell_type": "code",
   "execution_count": 11,
   "metadata": {},
   "outputs": [
    {
     "name": "stdout",
     "output_type": "stream",
     "text": [
      "0.077781660441017\n"
     ]
    }
   ],
   "source": [
    "# Media de la columna JP_Sales\n",
    "print(dataframe[\"JP_Sales\"].mean(axis=0))\n"
   ]
  },
  {
   "cell_type": "code",
   "execution_count": 12,
   "metadata": {},
   "outputs": [
    {
     "name": "stdout",
     "output_type": "stream",
     "text": [
      "41.49\n"
     ]
    }
   ],
   "source": [
    "# Valor máximo de la columna NA_Sales\n",
    "\n",
    "print(dataframe[\"NA_Sales\"].max())"
   ]
  },
  {
   "cell_type": "code",
   "execution_count": 13,
   "metadata": {},
   "outputs": [
    {
     "name": "stdout",
     "output_type": "stream",
     "text": [
      "0.0\n"
     ]
    }
   ],
   "source": [
    "# Valor mínimo de la columna EU_Sales\n",
    "print(dataframe[\"EU_Sales\"].min())\n"
   ]
  },
  {
   "cell_type": "code",
   "execution_count": 14,
   "metadata": {},
   "outputs": [
    {
     "name": "stdout",
     "output_type": "stream",
     "text": [
      "     Rank                                    Name Platform    Year  \\\n",
      "0       1                              Wii Sports      Wii  2006.0   \n",
      "6       7                   New Super Mario Bros.       DS  2006.0   \n",
      "7       8                                Wii Play      Wii  2006.0   \n",
      "20     21           Pokemon Diamond/Pokemon Pearl       DS  2006.0   \n",
      "100   101  The Legend of Zelda: Twilight Princess      Wii  2006.0   \n",
      "\n",
      "            Genre Publisher  NA_Sales  EU_Sales  JP_Sales  Other_Sales  \\\n",
      "0          Sports  Nintendo     41.49     29.02      3.77         8.46   \n",
      "6        Platform  Nintendo     11.38      9.23      6.50         2.90   \n",
      "7            Misc  Nintendo     14.03      9.20      2.93         2.85   \n",
      "20   Role-Playing  Nintendo      6.42      4.52      6.04         1.37   \n",
      "100        Action  Nintendo      3.83      2.19      0.60         0.70   \n",
      "\n",
      "     Global_Sales  \n",
      "0           82.74  \n",
      "6           30.01  \n",
      "7           29.02  \n",
      "20          18.36  \n",
      "100          7.31  \n"
     ]
    }
   ],
   "source": [
    "# 5 últimas filas del 2006\n",
    "print( dataframe[dataframe['Year'] == 2006].head())\n"
   ]
  },
  {
   "cell_type": "code",
   "execution_count": 15,
   "metadata": {},
   "outputs": [
    {
     "name": "stdout",
     "output_type": "stream",
     "text": [
      "   Rank                       Name Platform    Year         Genre Publisher  \\\n",
      "0     1                 Wii Sports      Wii  2006.0        Sports  Nintendo   \n",
      "2     3             Mario Kart Wii      Wii  2008.0        Racing  Nintendo   \n",
      "4     5   Pokemon Red/Pokemon Blue       GB  1996.0  Role-Playing  Nintendo   \n",
      "6     7      New Super Mario Bros.       DS  2006.0      Platform  Nintendo   \n",
      "8     9  New Super Mario Bros. Wii      Wii  2009.0      Platform  Nintendo   \n",
      "\n",
      "   NA_Sales  EU_Sales  JP_Sales  Other_Sales  Global_Sales  \n",
      "0     41.49     29.02      3.77         8.46         82.74  \n",
      "2     15.85     12.88      3.79         3.31         35.82  \n",
      "4     11.27      8.89     10.22         1.00         31.37  \n",
      "6     11.38      9.23      6.50         2.90         30.01  \n",
      "8     14.59      7.06      4.70         2.26         28.62  \n"
     ]
    }
   ],
   "source": [
    "# 5 primeras filas de índices pares\n",
    "print(dataframe[dataframe.index%2==0].head())\n"
   ]
  },
  {
   "cell_type": "code",
   "execution_count": 16,
   "metadata": {},
   "outputs": [
    {
     "name": "stdout",
     "output_type": "stream",
     "text": [
      "<class 'pandas.core.frame.DataFrame'>\n",
      "RangeIndex: 16598 entries, 0 to 16597\n",
      "Data columns (total 11 columns):\n",
      " #   Column        Non-Null Count  Dtype  \n",
      "---  ------        --------------  -----  \n",
      " 0   Rank          16598 non-null  int64  \n",
      " 1   Name          16598 non-null  object \n",
      " 2   Platform      16598 non-null  object \n",
      " 3   Year          16327 non-null  float64\n",
      " 4   Genre         16598 non-null  object \n",
      " 5   Publisher     16540 non-null  object \n",
      " 6   NA_Sales      16598 non-null  float64\n",
      " 7   EU_Sales      16598 non-null  float64\n",
      " 8   JP_Sales      16598 non-null  float64\n",
      " 9   Other_Sales   16598 non-null  float64\n",
      " 10  Global_Sales  16598 non-null  float64\n",
      "dtypes: float64(6), int64(1), object(4)\n",
      "memory usage: 1.4+ MB\n",
      "None\n"
     ]
    }
   ],
   "source": [
    "# Información general\n",
    "print(dataframe.info())\n"
   ]
  },
  {
   "cell_type": "code",
   "execution_count": 17,
   "metadata": {},
   "outputs": [
    {
     "name": "stdout",
     "output_type": "stream",
     "text": [
      "               Rank          Year      NA_Sales      EU_Sales      JP_Sales  \\\n",
      "count  16598.000000  16327.000000  16598.000000  16598.000000  16598.000000   \n",
      "mean    8300.605254   2006.406443      0.264667      0.146652      0.077782   \n",
      "std     4791.853933      5.828981      0.816683      0.505351      0.309291   \n",
      "min        1.000000   1980.000000      0.000000      0.000000      0.000000   \n",
      "25%     4151.250000   2003.000000      0.000000      0.000000      0.000000   \n",
      "50%     8300.500000   2007.000000      0.080000      0.020000      0.000000   \n",
      "75%    12449.750000   2010.000000      0.240000      0.110000      0.040000   \n",
      "max    16600.000000   2020.000000     41.490000     29.020000     10.220000   \n",
      "\n",
      "        Other_Sales  Global_Sales  \n",
      "count  16598.000000  16598.000000  \n",
      "mean       0.048063      0.537441  \n",
      "std        0.188588      1.555028  \n",
      "min        0.000000      0.010000  \n",
      "25%        0.000000      0.060000  \n",
      "50%        0.010000      0.170000  \n",
      "75%        0.040000      0.470000  \n",
      "max       10.570000     82.740000  \n"
     ]
    }
   ],
   "source": [
    "\n",
    "# Datos estadísticos\n",
    "print(dataframe.describe())\n"
   ]
  },
  {
   "cell_type": "code",
   "execution_count": 18,
   "metadata": {},
   "outputs": [
    {
     "name": "stdout",
     "output_type": "stream",
     "text": [
      "   Rank                      Name Platform    Year         Genre Publisher  \\\n",
      "0     1                Wii Sports      Wii  2006.0        Sports  Nintendo   \n",
      "1     2         Super Mario Bros.      NES  1985.0      Platform  Nintendo   \n",
      "2     3            Mario Kart Wii      Wii  2008.0        Racing  Nintendo   \n",
      "3     4         Wii Sports Resort      Wii  2009.0        Sports  Nintendo   \n",
      "4     5  Pokemon Red/Pokemon Blue       GB  1996.0  Role-Playing  Nintendo   \n",
      "\n",
      "   NA_Sales  EU_Sales  JP_Sales  Other_Sales  Global_Sales  \n",
      "0     41.49     29.02      3.77         8.46         82.74  \n",
      "1     29.08      3.58      6.81         0.77         40.24  \n",
      "2     15.85     12.88      3.79         3.31         35.82  \n",
      "3     15.75     11.01      3.28         2.96         33.00  \n",
      "4     11.27      8.89     10.22         1.00         31.37  \n"
     ]
    }
   ],
   "source": [
    "\n",
    "# Primeros 5 elementos \n",
    "print(dataframe.head())\n"
   ]
  },
  {
   "cell_type": "code",
   "execution_count": 19,
   "metadata": {},
   "outputs": [
    {
     "name": "stdout",
     "output_type": "stream",
     "text": [
      "        Rank                                              Name Platform  \\\n",
      "16593  16596                Woody Woodpecker in Crazy Castle 5      GBA   \n",
      "16594  16597                     Men in Black II: Alien Escape       GC   \n",
      "16595  16598  SCORE International Baja 1000: The Official Game      PS2   \n",
      "16596  16599                                        Know How 2       DS   \n",
      "16597  16600                                  Spirits & Spells      GBA   \n",
      "\n",
      "         Year     Genre   Publisher  NA_Sales  EU_Sales  JP_Sales  \\\n",
      "16593  2002.0  Platform       Kemco      0.01      0.00       0.0   \n",
      "16594  2003.0   Shooter  Infogrames      0.01      0.00       0.0   \n",
      "16595  2008.0    Racing  Activision      0.00      0.00       0.0   \n",
      "16596  2010.0    Puzzle    7G//AMES      0.00      0.01       0.0   \n",
      "16597  2003.0  Platform     Wanadoo      0.01      0.00       0.0   \n",
      "\n",
      "       Other_Sales  Global_Sales  \n",
      "16593          0.0          0.01  \n",
      "16594          0.0          0.01  \n",
      "16595          0.0          0.01  \n",
      "16596          0.0          0.01  \n",
      "16597          0.0          0.01  \n"
     ]
    }
   ],
   "source": [
    "\n",
    "# Últimos 5 elementoos\n",
    "print(dataframe.tail())"
   ]
  },
  {
   "cell_type": "markdown",
   "metadata": {
    "id": "sBjnAsUvrUzi"
   },
   "source": [
    "---\n",
    "## Ejercicio 6 - Gráficos de Dispersión con Personalización - 10 puntos"
   ]
  },
  {
   "cell_type": "markdown",
   "metadata": {
    "id": "lsJM0MOprVuF"
   },
   "source": [
    "**Objetivo:**\n",
    "* Combinar distintos tipos de gráficos en una sola figura.\n",
    "* Aprender a personalizar gráficos de tarta, dispersión, y barras.\n",
    "* Desarrollar habilidades en manipulación y visualización de datos.\n",
    "\n",
    "**Instrucciones:**\n",
    "1. Carga el dataset:\n",
    "    * Asegúrate de que el archivo 06-vg_sales.csv esté disponible y cárgalo como un DataFrame.\n",
    "2. Crear la figura:\n",
    "    * Crea 3 graficos de tipo gráficos de tarta, dispersión, y barras. Agrupalos en una figura organizada.\n",
    "    * Asegúrate de que el gráfico de tarta sea el más graico principal y más grande.\n",
    "        * La figura ocupa 3 filas x 3 columnas\n",
    "        * El gráfico de tarta ocupa 2 filas x 3 columnas\n",
    "        * El gráfico de dispersión ocupa 1 filas x 2 columnas\n",
    "        * El gráfico de barras ocupa 1 filas x 1 columnas\n",
    "3. Gráfico de Tarta (principal):\n",
    "    * Filtra los datos relacionados con el videojuego \"Wii Sports\".\n",
    "    * Crea un gráfico de tarta utilizando las columnas relacionadas con las ventas por región: `NA_Sales`, `EU_Sales`, `JP_Sales`, y `Other_Sales`.\n",
    "    * Personaliza el gráfico:\n",
    "        * Añade sombreado.\n",
    "        * Separa 0.5 del sector correspondiente al valor más pequeño (`JP_Sales`).\n",
    "        * Empieza el gráfico en el ángulo 90.\n",
    "        * Muestra los porcentajes con el formato \"%1.1f%%\".\n",
    "        * Como título, utiliza el nombre del videojuego.\n",
    "        * Colores: \n",
    "            * #fbb4ae - Light Pink\n",
    "            * #b3cde3 - Light Blue\n",
    "            * #ccebc5 - Light Green\n",
    "            * #decbe4 - Lavender\n",
    "3. Gráfico de Dispersión:\n",
    "    * Crea un gráfico de dispersión utilizando dos columnas relacionadas con las ventas (e.g., `NA_Sales` en el eje X y `EU_Sales` en el eje Y).\n",
    "    * Personaliza el gráfico:\n",
    "        * Escalar `JP_Sales` para el tamaño de los puntos en 50\n",
    "        * Asignale al grafico una barra de colores y asocia el colorbar de tipo cmap=`Set3`\n",
    "4. Gráfico de Barras:\n",
    "    * Genera un gráfico de barras que muestre las 5 consolas con mayores ventas globales (`Global_Sales`).\n",
    "    * Color: #809ab0\n"
   ]
  },
  {
   "cell_type": "code",
   "execution_count": 20,
   "metadata": {},
   "outputs": [],
   "source": [
    "def cargarCSV():\n",
    "    try:\n",
    "        return pd.read_csv(\"Recursos/06-vg_sales.csv\")\n",
    "    except:\n",
    "        print(\"Fichero no encontrado\")\n",
    "\n",
    "dataframe = cargarCSV()"
   ]
  },
  {
   "cell_type": "code",
   "execution_count": 21,
   "metadata": {},
   "outputs": [
    {
     "data": {
      "image/png": "[encoded data removed]",
      "text/plain": [
       "<Figure size 640x480 with 1 Axes>"
      ]
     },
     "metadata": {},
     "output_type": "display_data"
    }
   ],
   "source": [
    "# Creamos el objeto figure\n",
    "fig = plt.figure(constrained_layout = True)\n",
    "\n",
    "# Configuramos que tendrá 3 filas y 3 columnas\n",
    "gs = fig.add_gridspec(3, 3)\n",
    "\n",
    "# Plot 1\n",
    "columnasWii = [\"NA_Sales\",\"EU_Sales\",\"JP_Sales\",\"Other_Sales\"]\n",
    "count = [dataframe[\"NA_Sales\"].mean(numeric_only=True),dataframe[\"EU_Sales\"].mean(numeric_only=True),dataframe[\"JP_Sales\"].mean(numeric_only=True),dataframe[\"Other_Sales\"].mean(numeric_only=True)]\n",
    "fig_ax1 = fig.add_subplot(gs[:1, 2:])\n",
    "fig_ax1.pie(count, colors = [\"#fbb4ae\", \"#b3cde3\", \"#ccebc5\", \"#decbe4\"], \n",
    "            labels = columnasWii, shadow=True, autopct = \"%1.1f%%\",startangle=90, explode=[0, 0, 0,0.5]) # Para mi el más pequeño es Other_Sales asi que separo ese\n",
    "fig_ax1.set_title(\"Wii Sports\")\n",
    "plt.show()\n"
   ]
  },
  {
   "cell_type": "code",
   "execution_count": 22,
   "metadata": {},
   "outputs": [
    {
     "name": "stderr",
     "output_type": "stream",
     "text": [
      "/tmp/ipykernel_2425892/3733962685.py:4: UserWarning: No data for colormapping provided via 'c'. Parameters 'cmap' will be ignored\n",
      "  plt.scatter(x = dataframe[\"NA_Sales\"], y = dataframe[\"EU_Sales\"],\n"
     ]
    },
    {
     "data": {
      "image/png": "[encoded data removed]",
      "text/plain": [
       "<Figure size 640x480 with 2 Axes>"
      ]
     },
     "metadata": {},
     "output_type": "display_data"
    }
   ],
   "source": [
    "# Plot 2\n",
    "\n",
    "fig_ax2 = fig.add_subplot(gs[:2, :3])\n",
    "plt.scatter(x = dataframe[\"NA_Sales\"], y = dataframe[\"EU_Sales\"], \n",
    "            cmap = \"Set3\", alpha = 1,\n",
    "            marker = \"X\", s = 200, linewidths = 2)\n",
    "fig_ax2.set_xlabel(\"Notas\")\n",
    "fig_ax2.set_ylabel(\"Número de alumnos\")\n",
    "\n",
    "plt.colorbar()\n",
    "plt.show()"
   ]
  },
  {
   "cell_type": "code",
   "execution_count": 52,
   "metadata": {},
   "outputs": [
    {
     "data": {
      "text/plain": [
       "Platform\n",
       "DS      2163\n",
       "PS2     2161\n",
       "PS3     1329\n",
       "Wii     1325\n",
       "X360    1265\n",
       "Name: count, dtype: int64"
      ]
     },
     "execution_count": 52,
     "metadata": {},
     "output_type": "execute_result"
    }
   ],
   "source": [
    "dataframe['Platform'].value_counts().head()"
   ]
  },
  {
   "cell_type": "code",
   "execution_count": 24,
   "metadata": {},
   "outputs": [
    {
     "data": {
      "text/plain": [
       "Text(0.5, 1.0, 'Gráfico de barras (subplot 3)')"
      ]
     },
     "execution_count": 24,
     "metadata": {},
     "output_type": "execute_result"
    },
    {
     "data": {
      "image/png": "[encoded data removed]",
      "text/plain": [
       "<Figure size 640x480 with 1 Axes>"
      ]
     },
     "metadata": {},
     "output_type": "display_data"
    }
   ],
   "source": [
    "# Plot 3\n",
    "\n",
    "fig_ax3 = fig.add_subplot(gs[1:, 1:])\n",
    "plt.bar(dataframe[\"Platform\"], dataframe[\"Global_Sales\"], color = [\"#ff7f7d\", \"#ffc07d\", \"#817dff\", \"#7dff86\"])\n",
    "fig_ax3.set_title(\"Gráfico de barras (subplot 3)\")\n"
   ]
  },
  {
   "cell_type": "markdown",
   "metadata": {},
   "source": [
    "Lo junto todo\n",
    "\n",
    "        * La figura ocupa 3 filas x 3 columnas\n",
    "        * El gráfico de tarta ocupa 2 filas x 3 columnas\n",
    "        * El gráfico de dispersión ocupa 1 filas x 2 columnas\n",
    "        * El gráfico de barras ocupa 1 filas x 1 columnas"
   ]
  },
  {
   "cell_type": "code",
   "execution_count": 53,
   "metadata": {},
   "outputs": [
    {
     "data": {
      "image/png": "[encoded data removed]",
      "text/plain": [
       "<Figure size 640x480 with 4 Axes>"
      ]
     },
     "metadata": {},
     "output_type": "display_data"
    }
   ],
   "source": [
    "# Creamos el objeto figure\n",
    "fig = plt.figure(constrained_layout = True)\n",
    "\n",
    "# Configuramos que tendrá 3 filas y 3 columnas\n",
    "gs = fig.add_gridspec(3, 3)\n",
    "colors = [\"#fbb4ae\", \"#b3cde3\", \"#ccebc5\", \"#decbe4\"]\n",
    "colors2 =[]\n",
    "for i in range(len(dataframe)):\n",
    "    colors2.append(i)\n",
    "# Plot 1\n",
    "columnasWii = [\"NA_Sales\",\"EU_Sales\",\"JP_Sales\",\"Other_Sales\"]\n",
    "count = [dataframe[\"NA_Sales\"].mean(numeric_only=True),dataframe[\"EU_Sales\"].mean(numeric_only=True),dataframe[\"JP_Sales\"].mean(numeric_only=True),dataframe[\"Other_Sales\"].mean(numeric_only=True)]\n",
    "fig_ax1 = fig.add_subplot(gs[:-1, :])\n",
    "fig_ax1.pie(count, colors = [\"#fbb4ae\", \"#b3cde3\", \"#ccebc5\", \"#decbe4\"], \n",
    "            labels = columnasWii, shadow=True, autopct = \"%1.1f%%\",startangle=90, explode=[0, 0, 0,0.5]) # Para mi el más pequeño es Other_Sales asi que separo ese\n",
    "fig_ax1.set_title(\"Wii Sports\")\n",
    "# Plot 2\n",
    "\n",
    "fig_ax2 = fig.add_subplot(gs[2 ,:-1])\n",
    "plt.scatter(x = dataframe[\"NA_Sales\"], y = dataframe[\"EU_Sales\"], c = colors2,\n",
    "            cmap = \"Set3\", alpha = 1,\n",
    "            marker = \"X\", s = 200, linewidths = 2)\n",
    "fig_ax2.set_xlabel(\"Notas\")\n",
    "fig_ax2.set_ylabel(\"Número de alumnos\")\n",
    "\n",
    "plt.colorbar()\n",
    "# Plot 3\n",
    "\n",
    "fig_ax3 = fig.add_subplot(gs[2, -1])\n",
    "plt.bar(dataframe['Platform'], dataframe[\"Global_Sales\"], color = [\"#ff7f7d\", \"#ffc07d\", \"#817dff\", \"#7dff86\"])\n",
    "fig_ax3.set_title(\"Gráfico de barras (subplot 3)\")\n",
    "plt.show()"
   ]
  }
 ],
 "metadata": {
  "colab": {
   "authorship_tag": "ABX9TyM4M7mfdYR53UI6peUyCYMc",
   "collapsed_sections": [],
   "name": "06-Examen_RESUELTO.ipynb",
   "provenance": []
  },
  "kernelspec": {
   "display_name": ".conda",
   "language": "python",
   "name": "python3"
  },
  "language_info": {
   "codemirror_mode": {
    "name": "ipython",
    "version": 3
   },
   "file_extension": ".py",
   "mimetype": "text/x-python",
   "name": "python",
   "nbconvert_exporter": "python",
   "pygments_lexer": "ipython3",
   "version": "3.11.10"
  }
 },
 "nbformat": 4,
 "nbformat_minor": 0
}
