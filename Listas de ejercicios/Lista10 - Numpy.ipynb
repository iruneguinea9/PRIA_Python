{
 "cells": [
  {
   "cell_type": "markdown",
   "id": "d287d88e",
   "metadata": {},
   "source": [
    "# LISTA 10 -  LIBRERÍA NUMPY"
   ]
  },
  {
   "cell_type": "markdown",
   "id": "ccd0bc04",
   "metadata": {},
   "source": [
    "## <ins>Ejercicios Obligatorios </ins>"
   ]
  },
  {
   "cell_type": "code",
   "execution_count": 10,
   "id": "db08dbc8",
   "metadata": {},
   "outputs": [],
   "source": [
    "import pandas as pd\n",
    "import numpy as np\n",
    "import matplotlib.pyplot as plt\n",
    "from pandas import Series, DataFrame"
   ]
  },
  {
   "cell_type": "markdown",
   "id": "f99190d1",
   "metadata": {},
   "source": [
    "## EJERCICIO 1"
   ]
  },
  {
   "cell_type": "markdown",
   "id": "93a99146-6700-4082-b986-0aa25349c711",
   "metadata": {},
   "source": [
    "Crea un array unidimensional de 9 elementos y transfórmalo en un array 3D. Muestra la dimensión y la shape antes y después del reshape."
   ]
  },
  {
   "cell_type": "code",
   "execution_count": 5,
   "id": "3ccb0c16",
   "metadata": {},
   "outputs": [
    {
     "name": "stdout",
     "output_type": "stream",
     "text": [
      "Array unidimensional:\n",
      "[0 1 2 3 4 5 6 7 8]\n",
      "\n",
      "Shape antes del reshape: (9,)\n",
      "\n",
      "Array 3D\n",
      "[[0 1 2]\n",
      " [3 4 5]\n",
      " [6 7 8]]\n",
      "\n",
      "Shape después del reshape: (3, 3)\n"
     ]
    }
   ],
   "source": [
    "\n",
    "arr_1d = np.arange(9)\n",
    "\n",
    "print(\"Array unidimensional:\")\n",
    "print(arr_1d)\n",
    "print(\"\\nShape antes del reshape:\", arr_1d.shape)\n",
    "\n",
    "arr_3d = arr_1d.reshape((3, 3))\n",
    "\n",
    "print(\"\\nArray 3D\")\n",
    "print(arr_3d)\n",
    "print(\"\\nShape después del reshape:\", arr_3d.shape)"
   ]
  },
  {
   "cell_type": "markdown",
   "id": "feb0417e",
   "metadata": {},
   "source": [
    "## EJERCICIO 2"
   ]
  },
  {
   "cell_type": "markdown",
   "id": "91cd8f7c",
   "metadata": {},
   "source": [
    "Dados los arrays 2D ```[[-6, 5], [-4, 3], [-2, 1]] y [[1, 2], [3, 4], [5, 6]]```, concaténalos de modo que obtengas el array ```[[1, 2, -6, -5], [3, 4, -4, -3], [5, 6, -2, -1]]```"
   ]
  },
  {
   "cell_type": "code",
   "execution_count": 6,
   "id": "ebb60644",
   "metadata": {},
   "outputs": [
    {
     "name": "stdout",
     "output_type": "stream",
     "text": [
      "[[ 1  2 -6  5]\n",
      " [ 3  4 -4  3]\n",
      " [ 5  6 -2  1]]\n"
     ]
    }
   ],
   "source": [
    "import numpy as np\n",
    "\n",
    "array1 = np.array([[-6, 5], [-4, 3], [-2, 1]])\n",
    "array2 = np.array([[1, 2], [3, 4], [5, 6]])\n",
    "\n",
    "\n",
    "result = np.concatenate((array2, array1), axis=1)\n",
    "\n",
    "print(result)"
   ]
  },
  {
   "cell_type": "markdown",
   "id": "4d68e82b",
   "metadata": {},
   "source": [
    "## EJERCICIO 3"
   ]
  },
  {
   "cell_type": "markdown",
   "id": "ec7f3b2a",
   "metadata": {},
   "source": [
    "Dado el array 2D ```[[\"ala\", \"delfín\", \"arroz\"], [\"cena\", \"kayak\", \"picnic\"], [\"hoja\", \"gato\", \"elle\"]]```, busca las palabras que sean palíndromos. Necesitarás una función universal."
   ]
  },
  {
   "cell_type": "code",
   "execution_count": 7,
   "id": "b42be9cd",
   "metadata": {},
   "outputs": [
    {
     "name": "stdout",
     "output_type": "stream",
     "text": [
      "Palabras palíndromas: ['ala', 'kayak', 'elle']\n"
     ]
    }
   ],
   "source": [
    "\n",
    "def es_palindromo(palabra):\n",
    "    \n",
    "    return palabra == palabra[::-1]\n",
    "\n",
    "array_2d = [[\"ala\", \"delfín\", \"arroz\"], [\"cena\", \"kayak\", \"picnic\"], [\"hoja\", \"gato\", \"elle\"]]\n",
    "\n",
    "palindromos = [word for row in array_2d for word in row if es_palindromo(word)]\n",
    "\n",
    "print(\"Palabras palíndromas:\", palindromos)"
   ]
  },
  {
   "cell_type": "markdown",
   "id": "5c943554",
   "metadata": {},
   "source": [
    "## EJERCICIO 4"
   ]
  },
  {
   "cell_type": "markdown",
   "id": "13d2c744",
   "metadata": {},
   "source": [
    "Crea un minijuego que piense un número aleatorio entre 1 y 10 y, hasta que no lo aciertes, te pida un número del 1 al 10. Cuando aciertes, tendrá que devolver el número de intentos y la frase: “¡¡¡ENHORABUENA!!! Has acertado el número que había pensado: el {}”. En caso de que falles, el juego deberá mostrar la frase “¡Has fallado! ¡Prueba otra vez!”"
   ]
  },
  {
   "cell_type": "code",
   "execution_count": 12,
   "id": "fe3f0bba",
   "metadata": {},
   "outputs": [
    {
     "name": "stdout",
     "output_type": "stream",
     "text": [
      "¡Has fallado! ¡Prueba otra vez!\n",
      "¡¡¡ENHORABUENA!!! Has acertado el número que había pensado: el 5\n"
     ]
    }
   ],
   "source": [
    "import numpy as np\n",
    "\n",
    "numero_correcto = np.random.randint(1, 11)\n",
    "intento = \"-1\"\n",
    "while int(intento) != numero_correcto:\n",
    "    intento = input(\"Adivina un número del 1 al 10: \")\n",
    "        \n",
    "    while not intento.isdigit() or not 1 <= int(intento) <= 10:\n",
    "        intento = input(\"Por favor, introduce un número entero entre 1 y 10.\")        \n",
    "        \n",
    "    if int(intento) == numero_correcto:\n",
    "        print(f\"¡¡¡ENHORABUENA!!! Has acertado el número que había pensado: el {numero_correcto}\")\n",
    "    else:\n",
    "        print(\"¡Has fallado! ¡Prueba otra vez!\")"
   ]
  },
  {
   "cell_type": "markdown",
   "id": "2972dd7e",
   "metadata": {},
   "source": [
    "## EJERCICIO 5"
   ]
  },
  {
   "cell_type": "markdown",
   "id": "ef3c12ce",
   "metadata": {},
   "source": [
    "Crea un minijuego que piense un array 1D aleatorio de 5 elementos. Los elementos serán números enteros entre 1 y 20. Para cada intento, primero tendrá que pedir 5 números enteros del 1 al 20. El juego nos tendrá que decir cuántos números del array hemos acertado y cuántos números del array están bien colocados. El juego no termina hasta que no se hayan acertado todos los números pensados en la posición correspondiente. Al acabar, se tendrá que mostrar la frase: “¡¡¡ENHORABUENA!!! Has acertado el array que había pensado: {}”"
   ]
  },
  {
   "cell_type": "code",
   "execution_count": null,
   "id": "1f3301e4",
   "metadata": {},
   "outputs": [],
   "source": [
    "import numpy as np\n",
    "\n",
    "def arrayRandom():\n",
    "    return np.random.randint(1, 21, size=5)\n",
    "\n",
    "def comprobar(intento, resultado_correcto):\n",
    "    es_correcto = np.sum(np.equal(intento, resultado_correcto))\n",
    "    return es_correcto\n",
    "\n",
    "def wordle():\n",
    "    print(\"Wordle pero con números\")\n",
    "    print(\"Introduce un array aleatorio de 5 números enteros entre 1 y 20.\")\n",
    "    \n",
    "    resultado_correcto = arrayRandom()\n",
    "    \n",
    "    posiciones_correctas = 0\n",
    "    \n",
    "    while posiciones_correctas != 5:\n",
    "        intento = []\n",
    "        for i in range(5):\n",
    "            while len(intento)!=5:\n",
    "                try:\n",
    "                    num = int(input(f\"Introduce el número {i+1} (del 1 al 20): \"))\n",
    "                    if 1 <= num <= 20:\n",
    "                        intento.append(num)\n",
    "                        break\n",
    "                    else:\n",
    "                        print(\"Número fuera del rango. Intenta de nuevo.\")\n",
    "                except ValueError:\n",
    "                    print(\"No es un número válido. Intenta de nuevo.\")\n",
    "        \n",
    "        print(\"----------------------------------\")\n",
    "              \n",
    "        \n",
    "        if not np.all((np.array(intento) >= 1) & (np.array(intento) <= 20)):\n",
    "            print(\"Los números tienen que estar entre 1 y 20.\")\n",
    "            continue\n",
    "        \n",
    "        posiciones_correctas = comprobar(intento, resultado_correcto)\n",
    "        print(f\"Intento actual: {intento}\")\n",
    "        print(f\"Números correctos en posición: {posiciones_correctas}\")\n",
    "        \n",
    "        if posiciones_correctas == 5:\n",
    "            print(\"\\n¡!!ENHORABUENA!!! Has acertado el array que había pensado:\")\n",
    "            print(resultado_correcto)\n",
    "            break\n",
    "    \n",
    "\n",
    "if __name__ == \"__main__\":\n",
    "    wordle()"
   ]
  },
  {
   "cell_type": "markdown",
   "id": "cbbfb36c",
   "metadata": {},
   "source": [
    "## EJERCICIO 6"
   ]
  },
  {
   "cell_type": "markdown",
   "id": "f0211a75",
   "metadata": {},
   "source": [
    "A partir de la lista ```[-3, -2, -1, 0, 1, 2, 3]```, genera dos arrays aleatorios 2D de size = (3, 4) y súmalos."
   ]
  },
  {
   "cell_type": "code",
   "execution_count": 11,
   "id": "964b5be2",
   "metadata": {},
   "outputs": [
    {
     "name": "stdout",
     "output_type": "stream",
     "text": [
      "Array 1:\n",
      "[[ 2  0  3  1]\n",
      " [-1 -1 -1  0]\n",
      " [-3 -1 -1  2]]\n",
      "\n",
      "Array 2:\n",
      "[[-2  0 -1 -3]\n",
      " [-1 -2  0  0]\n",
      " [-3  2  2  3]]\n",
      "\n",
      "Suma de Arrays:\n",
      "[[ 0  0  2 -2]\n",
      " [-2 -3 -1  0]\n",
      " [-6  1  1  5]]\n"
     ]
    }
   ],
   "source": [
    "import numpy as np\n",
    "\n",
    "lista = [-3, -2, -1, 0, 1, 2, 3]\n",
    "\n",
    "array1 = np.random.choice(lista, size=(3, 4))\n",
    "array2 = np.random.choice(lista, size=(3, 4))\n",
    "\n",
    "suma_arrays = array1 + array2\n",
    "\n",
    "print(\"Array 1:\")\n",
    "print(array1)\n",
    "print(\"\\nArray 2:\")\n",
    "print(array2)\n",
    "print(\"\\nSuma de Arrays:\")\n",
    "print(suma_arrays)"
   ]
  },
  {
   "cell_type": "markdown",
   "id": "58dd922a",
   "metadata": {},
   "source": [
    "## <ins>Ejercicios Opcionales </ins>"
   ]
  },
  {
   "cell_type": "markdown",
   "id": "2f3cd026",
   "metadata": {},
   "source": [
    "## EJERCICIO 7"
   ]
  },
  {
   "cell_type": "markdown",
   "id": "de8639f8",
   "metadata": {},
   "source": [
    "Dado el array 2D ```[[1, 2, 3],[-1, 0, 1], [4, 5, 6], [-4, 0, 4], [3, 2, 1], [-3, 0, 3]]``` divídelo en 3 arrays 2D."
   ]
  },
  {
   "cell_type": "markdown",
   "id": "f754dfad",
   "metadata": {},
   "source": [
    "## EJERCICIO 8"
   ]
  },
  {
   "cell_type": "markdown",
   "id": "c4d05217",
   "metadata": {},
   "source": [
    "Crea una función universal que dado un array de strings devuelva el número total de vocales de cada string."
   ]
  }
 ],
 "metadata": {
  "kernelspec": {
   "display_name": "Python 3",
   "language": "python",
   "name": "python3"
  },
  "language_info": {
   "codemirror_mode": {
    "name": "ipython",
    "version": 3
   },
   "file_extension": ".py",
   "mimetype": "text/x-python",
   "name": "python",
   "nbconvert_exporter": "python",
   "pygments_lexer": "ipython3",
   "version": "3.12.7"
  }
 },
 "nbformat": 4,
 "nbformat_minor": 5
}
