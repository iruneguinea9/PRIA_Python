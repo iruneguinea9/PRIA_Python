{
  "cells": [
    {
      "cell_type": "markdown",
      "id": "d287d88e",
      "metadata": {
        "id": "d287d88e"
      },
      "source": [
        "# LISTA 11 - PANDAS"
      ]
    },
    {
      "cell_type": "markdown",
      "id": "5abe7c16",
      "metadata": {
        "id": "5abe7c16"
      },
      "source": [
        "## <ins>Ejercicios Obligatorios </ins>"
      ]
    },
    {
      "cell_type": "code",
      "execution_count": 1,
      "id": "336c39bd-b1dd-4ec7-807b-82612a36cebe",
      "metadata": {
        "id": "336c39bd-b1dd-4ec7-807b-82612a36cebe",
        "tags": []
      },
      "outputs": [],
      "source": [
        "import pandas as pd\n",
        "import numpy as np\n",
        "import matplotlib.pyplot as plt\n",
        "from pandas import Series, DataFrame"
      ]
    },
    {
      "cell_type": "markdown",
      "id": "f99190d1",
      "metadata": {
        "id": "f99190d1"
      },
      "source": [
        "## EJERCICIO 1"
      ]
    },
    {
      "cell_type": "markdown",
      "id": "b3836703",
      "metadata": {
        "id": "b3836703"
      },
      "source": [
        "Crea un dataframe con 15 filas y 2 columnas. La primera columna se llamará x, la segunda y. Cada entrada será un número aleatorio (puedes usar random.normal() de la librería numpy). Guarda el dataframe en una variable llamada points."
      ]
    },
    {
      "cell_type": "code",
      "execution_count": 2,
      "id": "9c09e6d7-32a7-486b-92b7-eb1646acf21f",
      "metadata": {
        "colab": {
          "base_uri": "https://localhost:8080/"
        },
        "id": "9c09e6d7-32a7-486b-92b7-eb1646acf21f",
        "outputId": "72474d0d-1ea4-4482-f52b-fb3a8bd5cd6c",
        "tags": []
      },
      "outputs": [
        {
          "name": "stdout",
          "output_type": "stream",
          "text": [
            "     x   y\n",
            "0    1 -13\n",
            "1   49  -5\n",
            "2  -16  33\n",
            "3   43  45\n",
            "4  -20  23\n",
            "5   14 -19\n",
            "6  -16   8\n",
            "7  -16 -11\n",
            "8   41  24\n",
            "9   19  48\n",
            "10  46   7\n",
            "11 -19  37\n",
            "12  37 -39\n",
            "13  45  20\n",
            "14 -43  18\n"
          ]
        }
      ],
      "source": [
        "import random\n",
        "x = []\n",
        "y = []\n",
        "for i in range (15):\n",
        "    x.append(random.randint(-50, 50))\n",
        "    y.append(random.randint(-50, 50))\n",
        "data = {\"x\": x, \"y\": y}\n",
        "points = pd.DataFrame(data = data)\n",
        "print(points)\n"
      ]
    },
    {
      "cell_type": "markdown",
      "id": "feb0417e",
      "metadata": {
        "id": "feb0417e"
      },
      "source": [
        "## EJERCICIO 2"
      ]
    },
    {
      "cell_type": "markdown",
      "id": "91cd8f7c",
      "metadata": {
        "id": "91cd8f7c"
      },
      "source": [
        "Del dataframe points, muestra las filas cuyo valor en la columna x sea positivo."
      ]
    },
    {
      "cell_type": "code",
      "execution_count": 3,
      "id": "6bd457ba-4888-4018-9b5f-39494a9d57a6",
      "metadata": {
        "colab": {
          "base_uri": "https://localhost:8080/"
        },
        "id": "6bd457ba-4888-4018-9b5f-39494a9d57a6",
        "outputId": "cba6b4c1-6df8-49c1-eeb8-7de1b457de7a"
      },
      "outputs": [
        {
          "name": "stdout",
          "output_type": "stream",
          "text": [
            "1\n",
            "49\n",
            "43\n",
            "14\n",
            "41\n",
            "19\n",
            "46\n",
            "37\n",
            "45\n"
          ]
        }
      ],
      "source": [
        "for i in points['x']:\n",
        "  if(i > 0):\n",
        "    print (i)\n",
        "\n",
        "\n"
      ]
    },
    {
      "cell_type": "markdown",
      "id": "abf81a65",
      "metadata": {
        "id": "abf81a65"
      },
      "source": [
        "## EJERCICIO 3"
      ]
    },
    {
      "cell_type": "markdown",
      "id": "c0dda757",
      "metadata": {
        "id": "c0dda757"
      },
      "source": [
        "Del dataframe points, muestra las filas cuyo valor en la columna y sea negativo."
      ]
    },
    {
      "cell_type": "code",
      "execution_count": 4,
      "id": "DiEZI0x7N_bo",
      "metadata": {
        "colab": {
          "base_uri": "https://localhost:8080/"
        },
        "id": "DiEZI0x7N_bo",
        "outputId": "c47ed1f6-b282-4663-9ec3-cd6f95775d1d"
      },
      "outputs": [
        {
          "name": "stdout",
          "output_type": "stream",
          "text": [
            "-13\n",
            "-5\n",
            "-19\n",
            "-11\n",
            "-39\n"
          ]
        }
      ],
      "source": [
        "for i in points['y']:\n",
        "  if(i < 0):\n",
        "    print (i)"
      ]
    },
    {
      "cell_type": "markdown",
      "id": "4d68e82b",
      "metadata": {
        "id": "4d68e82b"
      },
      "source": [
        "## EJERCICIO 4"
      ]
    },
    {
      "cell_type": "markdown",
      "id": "ec7f3b2a",
      "metadata": {
        "id": "ec7f3b2a"
      },
      "source": [
        ":Del dataframe points, muestra las observaciones cuyos puntos (x, y) pertenezcan al primer cuadrante."
      ]
    },
    {
      "cell_type": "code",
      "execution_count": 5,
      "id": "L8aAdGFQOES9",
      "metadata": {
        "colab": {
          "base_uri": "https://localhost:8080/"
        },
        "id": "L8aAdGFQOES9",
        "outputId": "c6669bda-b13b-4321-e6b8-bd9b95c930e1"
      },
      "outputs": [
        {
          "name": "stdout",
          "output_type": "stream",
          "text": [
            "     x   y\n",
            "3   43  45\n",
            "8   41  24\n",
            "9   19  48\n",
            "10  46   7\n",
            "13  45  20\n"
          ]
        }
      ],
      "source": [
        "primer_cuadrante = points[(points['x'] > 0) & (points['y'] > 0)]\n",
        "\n",
        "print(primer_cuadrante)"
      ]
    },
    {
      "cell_type": "markdown",
      "id": "5c943554",
      "metadata": {
        "id": "5c943554"
      },
      "source": [
        "## EJERCICIO 5"
      ]
    },
    {
      "cell_type": "markdown",
      "id": "13d2c744",
      "metadata": {
        "id": "13d2c744"
      },
      "source": [
        "Del dataframe points, muestra las observaciones de la forma: “El punto ({x}, {y}) {no/sí} pertenece al primer cuadrante”."
      ]
    },
    {
      "cell_type": "code",
      "execution_count": 6,
      "id": "4b7U58GWOv4Q",
      "metadata": {
        "colab": {
          "base_uri": "https://localhost:8080/"
        },
        "id": "4b7U58GWOv4Q",
        "outputId": "cea264f6-c8ee-4da8-b13c-12c1f7b43316"
      },
      "outputs": [
        {
          "name": "stdout",
          "output_type": "stream",
          "text": [
            "El punto (1, -13) no pertenece al primer cuadrante.\n",
            "El punto (49, -5) no pertenece al primer cuadrante.\n",
            "El punto (-16, 33) no pertenece al primer cuadrante.\n",
            "El punto (43, 45) sí pertenece al primer cuadrante.\n",
            "El punto (-20, 23) no pertenece al primer cuadrante.\n",
            "El punto (14, -19) no pertenece al primer cuadrante.\n",
            "El punto (-16, 8) no pertenece al primer cuadrante.\n",
            "El punto (-16, -11) no pertenece al primer cuadrante.\n",
            "El punto (41, 24) sí pertenece al primer cuadrante.\n",
            "El punto (19, 48) sí pertenece al primer cuadrante.\n",
            "El punto (46, 7) sí pertenece al primer cuadrante.\n",
            "El punto (-19, 37) no pertenece al primer cuadrante.\n",
            "El punto (37, -39) no pertenece al primer cuadrante.\n",
            "El punto (45, 20) sí pertenece al primer cuadrante.\n",
            "El punto (-43, 18) no pertenece al primer cuadrante.\n"
          ]
        }
      ],
      "source": [
        "for index, row in points.iterrows():\n",
        "    x, y = row['x'], row['y']\n",
        "    if row['x'] > 0 and row['y'] > 0:\n",
        "        message = f\"El punto ({x}, {y}) sí pertenece al primer cuadrante.\"\n",
        "    else:\n",
        "        message = f\"El punto ({x}, {y}) no pertenece al primer cuadrante.\"\n",
        "    print(message)\n"
      ]
    },
    {
      "cell_type": "markdown",
      "id": "2972dd7e",
      "metadata": {
        "id": "2972dd7e"
      },
      "source": [
        "## EJERCICIO 6"
      ]
    },
    {
      "cell_type": "markdown",
      "id": "ef3c12ce",
      "metadata": {
        "id": "ef3c12ce"
      },
      "source": [
        "Crea un dataframe con 10 filas y 4 columnas. La primera columna se llamará word; la segunda, length; la tercera, vowels; y la última, consonants. La columna words contendrá las siguientes 10 palabras: “euro”, “diez” “algas”, “broma”, “cicuta”, “fatiga”, “nachos”, “jadeos”, “hazañas”, “boutique”. Las columnas length, vowels y consonants contendrán, respectivamente, la longitud, el total de vocales y el total de consonantes (añade las columnas calculando su valor por código). Guarda el dataframe en la variable words."
      ]
    },
    {
      "cell_type": "code",
      "execution_count": 7,
      "id": "M_Q5y4YkQ9hY",
      "metadata": {
        "colab": {
          "base_uri": "https://localhost:8080/"
        },
        "id": "M_Q5y4YkQ9hY",
        "outputId": "b240a2ec-8a73-4ef3-91aa-bfb381c3fc58"
      },
      "outputs": [
        {
          "name": "stdout",
          "output_type": "stream",
          "text": [
            "       word  length  vowels  consonants\n",
            "0      euro       4       3           1\n",
            "1      diez       4       2           2\n",
            "2     algas       5       2           3\n",
            "3     broma       5       2           3\n",
            "4    cicuta       6       3           3\n",
            "5    fatiga       6       3           3\n",
            "6    nachos       6       2           4\n",
            "7    jadeos       6       3           3\n",
            "8   hazañas       7       3           4\n",
            "9  boutique       8       5           3\n"
          ]
        }
      ],
      "source": [
        "words = [\"euro\", \"diez\", \"algas\", \"broma\", \"cicuta\", \"fatiga\", \"nachos\", \"jadeos\", \"hazañas\", \"boutique\"]\n",
        "\n",
        "df = pd.DataFrame({\n",
        "    'word': words,\n",
        "    'length': [len(word) for word in words],\n",
        "    'vowels': [sum(1 for char in word.lower() if char in 'aeiou') for word in words],\n",
        "    'consonants': [len(word) - sum(1 for char in word.lower() if char in 'aeiou') for word in words]\n",
        "})\n",
        "print (df)\n"
      ]
    },
    {
      "cell_type": "markdown",
      "id": "cbbfb36c",
      "metadata": {
        "id": "cbbfb36c"
      },
      "source": [
        "## EJERCICIO 7"
      ]
    },
    {
      "cell_type": "markdown",
      "id": "f0211a75",
      "metadata": {
        "id": "f0211a75"
      },
      "source": [
        "Muestra las 10 observaciones de words con el formato “La palabra {word} tiene {length} letras, de las cuales {vowels} son vocales y {consonants} consonantes”."
      ]
    },
    {
      "cell_type": "code",
      "execution_count": 8,
      "id": "_9We8IRNRgMP",
      "metadata": {
        "colab": {
          "base_uri": "https://localhost:8080/"
        },
        "id": "_9We8IRNRgMP",
        "outputId": "75569f77-13bf-4bd0-c746-720b138f38c2"
      },
      "outputs": [
        {
          "name": "stdout",
          "output_type": "stream",
          "text": [
            "La palabra euro tiene 4 letras, de las cuales 3 son vocales y 1 consonantes.\n",
            "La palabra diez tiene 4 letras, de las cuales 2 son vocales y 2 consonantes.\n",
            "La palabra algas tiene 5 letras, de las cuales 2 son vocales y 3 consonantes.\n",
            "La palabra broma tiene 5 letras, de las cuales 2 son vocales y 3 consonantes.\n",
            "La palabra cicuta tiene 6 letras, de las cuales 3 son vocales y 3 consonantes.\n",
            "La palabra fatiga tiene 6 letras, de las cuales 3 son vocales y 3 consonantes.\n",
            "La palabra nachos tiene 6 letras, de las cuales 2 son vocales y 4 consonantes.\n",
            "La palabra jadeos tiene 6 letras, de las cuales 3 son vocales y 3 consonantes.\n",
            "La palabra hazañas tiene 7 letras, de las cuales 3 son vocales y 4 consonantes.\n",
            "La palabra boutique tiene 8 letras, de las cuales 5 son vocales y 3 consonantes.\n"
          ]
        }
      ],
      "source": [
        "\n",
        "\n",
        "\n",
        "for column, row in df.iterrows():\n",
        "    print(f\"La palabra {row['word']} tiene {row['length']} letras, de las cuales {row['vowels']} son vocales y {row['consonants']} consonantes.\")"
      ]
    },
    {
      "cell_type": "markdown",
      "id": "59397f22",
      "metadata": {
        "id": "59397f22"
      },
      "source": [
        "## EJERCICIO 8"
      ]
    },
    {
      "cell_type": "markdown",
      "id": "8272bcdf",
      "metadata": {
        "id": "8272bcdf"
      },
      "source": [
        "Muestra aquellas observaciones de words que tienen el mismo número de vocales y consonantes."
      ]
    },
    {
      "cell_type": "code",
      "execution_count": 9,
      "id": "6FLOsQC1TYZw",
      "metadata": {
        "colab": {
          "base_uri": "https://localhost:8080/"
        },
        "id": "6FLOsQC1TYZw",
        "outputId": "57deed67-0647-4407-a45a-5c7e6c8dbd0d"
      },
      "outputs": [
        {
          "name": "stdout",
          "output_type": "stream",
          "text": [
            "word          diez\n",
            "length           4\n",
            "vowels           2\n",
            "consonants       2\n",
            "Name: 1, dtype: object\n",
            "word          cicuta\n",
            "length             6\n",
            "vowels             3\n",
            "consonants         3\n",
            "Name: 4, dtype: object\n",
            "word          fatiga\n",
            "length             6\n",
            "vowels             3\n",
            "consonants         3\n",
            "Name: 5, dtype: object\n",
            "word          jadeos\n",
            "length             6\n",
            "vowels             3\n",
            "consonants         3\n",
            "Name: 7, dtype: object\n"
          ]
        }
      ],
      "source": [
        "\n",
        "for index, row in df.iterrows():\n",
        "    if row['vowels'] == row['consonants']:\n",
        "      print(row)"
      ]
    },
    {
      "cell_type": "markdown",
      "id": "a157cc9d",
      "metadata": {
        "id": "a157cc9d"
      },
      "source": [
        "## EJERCICIO 9"
      ]
    },
    {
      "cell_type": "markdown",
      "id": "41b16d4b",
      "metadata": {
        "id": "41b16d4b"
      },
      "source": [
        "El siguiente DataFrame contiene información de los pisos en alquiler en Murcia a fecha de 31/12/2020:\n",
        "```\n",
        "fotocasa_df = pd.read_csv(\"https://drive.google.com/uc?export=view&id=1DwvALe87aeDzTk7s6xGPDd6itJ65s4YE\", index_col = 0)\n",
        "```\n",
        "Muestra el número de filas, columnas y valores que contiene el DataFrame cargado:"
      ]
    },
    {
      "cell_type": "code",
      "execution_count": 10,
      "id": "zDKGcNvzUk-a",
      "metadata": {
        "colab": {
          "base_uri": "https://localhost:8080/"
        },
        "id": "zDKGcNvzUk-a",
        "outputId": "74d6c071-0b9d-4629-95de-68058b808f22"
      },
      "outputs": [
        {
          "name": "stdout",
          "output_type": "stream",
          "text": [
            "El número de filas de fotocasa_df es 617\n",
            "El número de columnas de fotocasa_df es 59\n",
            "El número de valores de fotocasa_df es 36403\n"
          ]
        }
      ],
      "source": [
        "fotocasa_df = pd.read_csv(\"https://drive.google.com/uc?export=view&id=1DwvALe87aeDzTk7s6xGPDd6itJ65s4YE\", index_col = 0)\n",
        "nrows = fotocasa_df.shape[0]\n",
        "ncols = fotocasa_df.shape[1]\n",
        "nval = fotocasa_df.size\n",
        "print(\"El número de filas de fotocasa_df es\", nrows)\n",
        "print(\"El número de columnas de fotocasa_df es\", ncols)\n",
        "print(\"El número de valores de fotocasa_df es\", nval)"
      ]
    },
    {
      "cell_type": "markdown",
      "id": "5c606a0f",
      "metadata": {
        "id": "5c606a0f"
      },
      "source": [
        "## EJERCICIO 10"
      ]
    },
    {
      "cell_type": "markdown",
      "id": "3b8ae681",
      "metadata": {
        "id": "3b8ae681"
      },
      "source": [
        "Recupera los cinco primeros pisos (filas)"
      ]
    },
    {
      "cell_type": "code",
      "execution_count": 11,
      "id": "r0sFOVp2U8-3",
      "metadata": {
        "colab": {
          "base_uri": "https://localhost:8080/"
        },
        "id": "r0sFOVp2U8-3",
        "outputId": "85954802-6a32-4113-cb17-af35f2514455"
      },
      "outputs": [
        {
          "name": "stdout",
          "output_type": "stream",
          "text": [
            "        Precio                                     Título  \\\n",
            "0  A consultar                 Piso de alquiler en Centro   \n",
            "1   500 € /mes          Apartamento de alquiler en Centro   \n",
            "2   900 € /mes  Piso de alquiler en Doctor Marañón Centro   \n",
            "3   750 € /mes                 Piso de alquiler en Centro   \n",
            "4   800 € /mes                 Piso de alquiler en Centro   \n",
            "\n",
            "                                         Descripción     Fotos  \\\n",
            "0  TRABAJADORES Y ESTUDIANTES ATENCION!!!! VIVIEN...  18 Fotos   \n",
            "1  Maravilloso apartamento para entrar a vivir en...  21 Fotos   \n",
            "2  Se alquila estupenda vivienda recién reformada...  18 Fotos   \n",
            "3  Te presentamos este fabuloso apartamento situa...  30 Fotos   \n",
            "4  Fantástica vivienda en alquiler ubicada muy pr...  28 Fotos   \n",
            "\n",
            "               Dirección  Inmobiliaria                    Anunciante  \\\n",
            "0                 Centro          True      DPTO. COMERCIAL PISOSMUR   \n",
            "1                 Centro          True                BREXTOM MURCIA   \n",
            "2  Doctor Marañón Centro          True  ABAD SERVICIOS INMOBILIARIOS   \n",
            "3                 Centro          True  ABAD SERVICIOS INMOBILIARIOS   \n",
            "4                 Centro          True                BREXTOM MURCIA   \n",
            "\n",
            "                        Habitaciones                              Baños  \\\n",
            "0  <span><span>4</span> habs.</span>  <span><span>2</span> baños</span>   \n",
            "1   <span><span>1</span> hab.</span>   <span><span>1</span> baño</span>   \n",
            "2  <span><span>4</span> habs.</span>  <span><span>2</span> baños</span>   \n",
            "3  <span><span>2</span> habs.</span>   <span><span>1</span> baño</span>   \n",
            "4  <span><span>3</span> habs.</span>  <span><span>2</span> baños</span>   \n",
            "\n",
            "                         Superficie  ... Serv. portería Internet  \\\n",
            "0  <span><span>110</span> m²</span>  ...            NaN      NaN   \n",
            "1   <span><span>46</span> m²</span>  ...            NaN      NaN   \n",
            "2  <span><span>169</span> m²</span>  ...            NaN      NaN   \n",
            "3   <span><span>77</span> m²</span>  ...            NaN      NaN   \n",
            "4  <span><span>104</span> m²</span>  ...            NaN      NaN   \n",
            "\n",
            "  Suite - con baño Patio Domótica Pista de Tenis Alarma Mascotas  \\\n",
            "0              NaN   NaN      NaN            NaN    NaN      NaN   \n",
            "1              NaN   NaN      NaN            NaN    NaN      NaN   \n",
            "2              NaN   NaN      NaN            NaN    NaN      NaN   \n",
            "3              NaN   NaN      NaN            NaN    NaN      NaN   \n",
            "4              NaN   NaN      NaN            NaN    NaN      NaN   \n",
            "\n",
            "  Energía Solar Gimnasio  \n",
            "0           NaN      NaN  \n",
            "1           NaN      NaN  \n",
            "2           NaN      NaN  \n",
            "3           NaN      NaN  \n",
            "4           NaN      NaN  \n",
            "\n",
            "[5 rows x 59 columns]\n"
          ]
        }
      ],
      "source": [
        "print(fotocasa_df.head())"
      ]
    },
    {
      "cell_type": "markdown",
      "id": "f33f8820",
      "metadata": {
        "id": "f33f8820"
      },
      "source": [
        "## EJERCICIO 11"
      ]
    },
    {
      "cell_type": "markdown",
      "id": "02e62bf3",
      "metadata": {
        "id": "02e62bf3"
      },
      "source": [
        "Recupera los cinco últimos pisos:"
      ]
    },
    {
      "cell_type": "code",
      "execution_count": 12,
      "id": "Di6p_QBlVQ4Z",
      "metadata": {
        "id": "Di6p_QBlVQ4Z"
      },
      "outputs": [
        {
          "name": "stdout",
          "output_type": "stream",
          "text": [
            "    Precio                                             Título Descripción  \\\n",
            "612    NaN  Alquiler piso en barrio dEl Carmen en El Carme...         NaN   \n",
            "613    NaN  Alquiler apartamento en plaza san nicolas en M...         NaN   \n",
            "614    NaN  Alquiler apartamento exclusivo apto plaza flor...         NaN   \n",
            "615    NaN  Alquiler piso alquiler de local entresuelo en ...         NaN   \n",
            "616    NaN  Alquiler piso en alquiler en edificio alba, sa...         NaN   \n",
            "\n",
            "    Fotos Dirección  Inmobiliaria Anunciante Habitaciones Baños Superficie  \\\n",
            "612   NaN       NaN          True        NaN          NaN   NaN        NaN   \n",
            "613   NaN       NaN          True        NaN          NaN   NaN        NaN   \n",
            "614   NaN       NaN          True        NaN          NaN   NaN        NaN   \n",
            "615   NaN       NaN          True        NaN          NaN   NaN        NaN   \n",
            "616   NaN       NaN          True        NaN          NaN   NaN        NaN   \n",
            "\n",
            "     ... Serv. portería Internet Suite - con baño Patio Domótica  \\\n",
            "612  ...            NaN      NaN              NaN   NaN      NaN   \n",
            "613  ...            NaN      NaN              NaN   NaN      NaN   \n",
            "614  ...            NaN      NaN              NaN   NaN      NaN   \n",
            "615  ...            NaN      NaN              NaN   NaN      NaN   \n",
            "616  ...            NaN      NaN              NaN   NaN      NaN   \n",
            "\n",
            "    Pista de Tenis Alarma Mascotas Energía Solar Gimnasio  \n",
            "612            NaN    NaN      NaN           NaN      NaN  \n",
            "613            NaN    NaN      NaN           NaN      NaN  \n",
            "614            NaN    NaN      NaN           NaN      NaN  \n",
            "615            NaN    NaN      NaN           NaN      NaN  \n",
            "616            NaN    NaN      NaN           NaN      NaN  \n",
            "\n",
            "[5 rows x 59 columns]\n"
          ]
        }
      ],
      "source": [
        "print(fotocasa_df.tail())"
      ]
    },
    {
      "cell_type": "markdown",
      "id": "1671f2ca",
      "metadata": {
        "id": "1671f2ca"
      },
      "source": [
        "Muestra los campos Inmobiliaria y Tipo de inmueble de los tres últimos pisos:"
      ]
    },
    {
      "cell_type": "code",
      "execution_count": 13,
      "id": "ZhVx71pmVQJR",
      "metadata": {
        "colab": {
          "base_uri": "https://localhost:8080/"
        },
        "id": "ZhVx71pmVQJR",
        "outputId": "6883c834-bcfa-4b27-8fb8-c9931ca4fe16"
      },
      "outputs": [
        {
          "name": "stdout",
          "output_type": "stream",
          "text": [
            "Inmobiliaria  614    True\n",
            "615    True\n",
            "616    True\n",
            "Name: Inmobiliaria, dtype: bool  Tipo de inmueble  614    NaN\n",
            "615    NaN\n",
            "616    NaN\n",
            "Name: Tipo de inmueble, dtype: object\n"
          ]
        }
      ],
      "source": [
        "print(\"Inmobiliaria \",fotocasa_df.tail(3)['Inmobiliaria'], \" Tipo de inmueble \",fotocasa_df.tail(3)['Tipo de inmueble'])"
      ]
    },
    {
      "cell_type": "markdown",
      "id": "bad2b17d",
      "metadata": {
        "id": "bad2b17d"
      },
      "source": [
        "## EJERCICIO 12"
      ]
    },
    {
      "cell_type": "markdown",
      "id": "bc18b640",
      "metadata": {
        "id": "bc18b640"
      },
      "source": [
        "Las columnas Domótica, Pista de Tenis, Alarma, Mascotas, Energía Solar y Gimnasio no contienen apenas valores definidos. Elimínalas del DataFrame y almacena el resultado en fotocasa1_df:"
      ]
    },
    {
      "cell_type": "code",
      "execution_count": 14,
      "id": "cXe9K1e0V4WX",
      "metadata": {
        "colab": {
          "base_uri": "https://localhost:8080/",
          "height": 1000
        },
        "id": "cXe9K1e0V4WX",
        "outputId": "306aabaa-d4ec-48c9-cdb2-87beac5c25c2"
      },
      "outputs": [
        {
          "data": {
            "text/html": [
              "<div>\n",
              "<style scoped>\n",
              "    .dataframe tbody tr th:only-of-type {\n",
              "        vertical-align: middle;\n",
              "    }\n",
              "\n",
              "    .dataframe tbody tr th {\n",
              "        vertical-align: top;\n",
              "    }\n",
              "\n",
              "    .dataframe thead th {\n",
              "        text-align: right;\n",
              "    }\n",
              "</style>\n",
              "<table border=\"1\" class=\"dataframe\">\n",
              "  <thead>\n",
              "    <tr style=\"text-align: right;\">\n",
              "      <th></th>\n",
              "      <th>Precio</th>\n",
              "      <th>Título</th>\n",
              "      <th>Descripción</th>\n",
              "      <th>Fotos</th>\n",
              "      <th>Dirección</th>\n",
              "      <th>Inmobiliaria</th>\n",
              "      <th>Anunciante</th>\n",
              "      <th>Habitaciones</th>\n",
              "      <th>Baños</th>\n",
              "      <th>Superficie</th>\n",
              "      <th>...</th>\n",
              "      <th>Z. Comunitaria</th>\n",
              "      <th>Piscina</th>\n",
              "      <th>TV</th>\n",
              "      <th>Zona Deportiva</th>\n",
              "      <th>Zona Infantil</th>\n",
              "      <th>Piscina comunitaria</th>\n",
              "      <th>Serv. portería</th>\n",
              "      <th>Internet</th>\n",
              "      <th>Suite - con baño</th>\n",
              "      <th>Patio</th>\n",
              "    </tr>\n",
              "  </thead>\n",
              "  <tbody>\n",
              "    <tr>\n",
              "      <th>0</th>\n",
              "      <td>A consultar</td>\n",
              "      <td>Piso de alquiler en Centro</td>\n",
              "      <td>TRABAJADORES Y ESTUDIANTES ATENCION!!!! VIVIEN...</td>\n",
              "      <td>18 Fotos</td>\n",
              "      <td>Centro</td>\n",
              "      <td>True</td>\n",
              "      <td>DPTO. COMERCIAL PISOSMUR</td>\n",
              "      <td>&lt;span&gt;&lt;span&gt;4&lt;/span&gt; habs.&lt;/span&gt;</td>\n",
              "      <td>&lt;span&gt;&lt;span&gt;2&lt;/span&gt; baños&lt;/span&gt;</td>\n",
              "      <td>&lt;span&gt;&lt;span&gt;110&lt;/span&gt; m²&lt;/span&gt;</td>\n",
              "      <td>...</td>\n",
              "      <td>NaN</td>\n",
              "      <td>NaN</td>\n",
              "      <td>NaN</td>\n",
              "      <td>NaN</td>\n",
              "      <td>NaN</td>\n",
              "      <td>NaN</td>\n",
              "      <td>NaN</td>\n",
              "      <td>NaN</td>\n",
              "      <td>NaN</td>\n",
              "      <td>NaN</td>\n",
              "    </tr>\n",
              "    <tr>\n",
              "      <th>1</th>\n",
              "      <td>500 € /mes</td>\n",
              "      <td>Apartamento de alquiler en Centro</td>\n",
              "      <td>Maravilloso apartamento para entrar a vivir en...</td>\n",
              "      <td>21 Fotos</td>\n",
              "      <td>Centro</td>\n",
              "      <td>True</td>\n",
              "      <td>BREXTOM MURCIA</td>\n",
              "      <td>&lt;span&gt;&lt;span&gt;1&lt;/span&gt; hab.&lt;/span&gt;</td>\n",
              "      <td>&lt;span&gt;&lt;span&gt;1&lt;/span&gt; baño&lt;/span&gt;</td>\n",
              "      <td>&lt;span&gt;&lt;span&gt;46&lt;/span&gt; m²&lt;/span&gt;</td>\n",
              "      <td>...</td>\n",
              "      <td>NaN</td>\n",
              "      <td>NaN</td>\n",
              "      <td>NaN</td>\n",
              "      <td>NaN</td>\n",
              "      <td>NaN</td>\n",
              "      <td>NaN</td>\n",
              "      <td>NaN</td>\n",
              "      <td>NaN</td>\n",
              "      <td>NaN</td>\n",
              "      <td>NaN</td>\n",
              "    </tr>\n",
              "    <tr>\n",
              "      <th>2</th>\n",
              "      <td>900 € /mes</td>\n",
              "      <td>Piso de alquiler en Doctor Marañón Centro</td>\n",
              "      <td>Se alquila estupenda vivienda recién reformada...</td>\n",
              "      <td>18 Fotos</td>\n",
              "      <td>Doctor Marañón Centro</td>\n",
              "      <td>True</td>\n",
              "      <td>ABAD SERVICIOS INMOBILIARIOS</td>\n",
              "      <td>&lt;span&gt;&lt;span&gt;4&lt;/span&gt; habs.&lt;/span&gt;</td>\n",
              "      <td>&lt;span&gt;&lt;span&gt;2&lt;/span&gt; baños&lt;/span&gt;</td>\n",
              "      <td>&lt;span&gt;&lt;span&gt;169&lt;/span&gt; m²&lt;/span&gt;</td>\n",
              "      <td>...</td>\n",
              "      <td>NaN</td>\n",
              "      <td>NaN</td>\n",
              "      <td>NaN</td>\n",
              "      <td>NaN</td>\n",
              "      <td>NaN</td>\n",
              "      <td>NaN</td>\n",
              "      <td>NaN</td>\n",
              "      <td>NaN</td>\n",
              "      <td>NaN</td>\n",
              "      <td>NaN</td>\n",
              "    </tr>\n",
              "    <tr>\n",
              "      <th>3</th>\n",
              "      <td>750 € /mes</td>\n",
              "      <td>Piso de alquiler en Centro</td>\n",
              "      <td>Te presentamos este fabuloso apartamento situa...</td>\n",
              "      <td>30 Fotos</td>\n",
              "      <td>Centro</td>\n",
              "      <td>True</td>\n",
              "      <td>ABAD SERVICIOS INMOBILIARIOS</td>\n",
              "      <td>&lt;span&gt;&lt;span&gt;2&lt;/span&gt; habs.&lt;/span&gt;</td>\n",
              "      <td>&lt;span&gt;&lt;span&gt;1&lt;/span&gt; baño&lt;/span&gt;</td>\n",
              "      <td>&lt;span&gt;&lt;span&gt;77&lt;/span&gt; m²&lt;/span&gt;</td>\n",
              "      <td>...</td>\n",
              "      <td>NaN</td>\n",
              "      <td>NaN</td>\n",
              "      <td>NaN</td>\n",
              "      <td>NaN</td>\n",
              "      <td>NaN</td>\n",
              "      <td>NaN</td>\n",
              "      <td>NaN</td>\n",
              "      <td>NaN</td>\n",
              "      <td>NaN</td>\n",
              "      <td>NaN</td>\n",
              "    </tr>\n",
              "    <tr>\n",
              "      <th>4</th>\n",
              "      <td>800 € /mes</td>\n",
              "      <td>Piso de alquiler en Centro</td>\n",
              "      <td>Fantástica vivienda en alquiler ubicada muy pr...</td>\n",
              "      <td>28 Fotos</td>\n",
              "      <td>Centro</td>\n",
              "      <td>True</td>\n",
              "      <td>BREXTOM MURCIA</td>\n",
              "      <td>&lt;span&gt;&lt;span&gt;3&lt;/span&gt; habs.&lt;/span&gt;</td>\n",
              "      <td>&lt;span&gt;&lt;span&gt;2&lt;/span&gt; baños&lt;/span&gt;</td>\n",
              "      <td>&lt;span&gt;&lt;span&gt;104&lt;/span&gt; m²&lt;/span&gt;</td>\n",
              "      <td>...</td>\n",
              "      <td>NaN</td>\n",
              "      <td>NaN</td>\n",
              "      <td>NaN</td>\n",
              "      <td>NaN</td>\n",
              "      <td>NaN</td>\n",
              "      <td>NaN</td>\n",
              "      <td>NaN</td>\n",
              "      <td>NaN</td>\n",
              "      <td>NaN</td>\n",
              "      <td>NaN</td>\n",
              "    </tr>\n",
              "    <tr>\n",
              "      <th>...</th>\n",
              "      <td>...</td>\n",
              "      <td>...</td>\n",
              "      <td>...</td>\n",
              "      <td>...</td>\n",
              "      <td>...</td>\n",
              "      <td>...</td>\n",
              "      <td>...</td>\n",
              "      <td>...</td>\n",
              "      <td>...</td>\n",
              "      <td>...</td>\n",
              "      <td>...</td>\n",
              "      <td>...</td>\n",
              "      <td>...</td>\n",
              "      <td>...</td>\n",
              "      <td>...</td>\n",
              "      <td>...</td>\n",
              "      <td>...</td>\n",
              "      <td>...</td>\n",
              "      <td>...</td>\n",
              "      <td>...</td>\n",
              "      <td>...</td>\n",
              "    </tr>\n",
              "    <tr>\n",
              "      <th>612</th>\n",
              "      <td>NaN</td>\n",
              "      <td>Alquiler piso en barrio dEl Carmen en El Carme...</td>\n",
              "      <td>NaN</td>\n",
              "      <td>NaN</td>\n",
              "      <td>NaN</td>\n",
              "      <td>True</td>\n",
              "      <td>NaN</td>\n",
              "      <td>NaN</td>\n",
              "      <td>NaN</td>\n",
              "      <td>NaN</td>\n",
              "      <td>...</td>\n",
              "      <td>NaN</td>\n",
              "      <td>NaN</td>\n",
              "      <td>NaN</td>\n",
              "      <td>NaN</td>\n",
              "      <td>NaN</td>\n",
              "      <td>NaN</td>\n",
              "      <td>NaN</td>\n",
              "      <td>NaN</td>\n",
              "      <td>NaN</td>\n",
              "      <td>NaN</td>\n",
              "    </tr>\n",
              "    <tr>\n",
              "      <th>613</th>\n",
              "      <td>NaN</td>\n",
              "      <td>Alquiler apartamento en plaza san nicolas en M...</td>\n",
              "      <td>NaN</td>\n",
              "      <td>NaN</td>\n",
              "      <td>NaN</td>\n",
              "      <td>True</td>\n",
              "      <td>NaN</td>\n",
              "      <td>NaN</td>\n",
              "      <td>NaN</td>\n",
              "      <td>NaN</td>\n",
              "      <td>...</td>\n",
              "      <td>NaN</td>\n",
              "      <td>NaN</td>\n",
              "      <td>NaN</td>\n",
              "      <td>NaN</td>\n",
              "      <td>NaN</td>\n",
              "      <td>NaN</td>\n",
              "      <td>NaN</td>\n",
              "      <td>NaN</td>\n",
              "      <td>NaN</td>\n",
              "      <td>NaN</td>\n",
              "    </tr>\n",
              "    <tr>\n",
              "      <th>614</th>\n",
              "      <td>NaN</td>\n",
              "      <td>Alquiler apartamento exclusivo apto plaza flor...</td>\n",
              "      <td>NaN</td>\n",
              "      <td>NaN</td>\n",
              "      <td>NaN</td>\n",
              "      <td>True</td>\n",
              "      <td>NaN</td>\n",
              "      <td>NaN</td>\n",
              "      <td>NaN</td>\n",
              "      <td>NaN</td>\n",
              "      <td>...</td>\n",
              "      <td>NaN</td>\n",
              "      <td>NaN</td>\n",
              "      <td>NaN</td>\n",
              "      <td>NaN</td>\n",
              "      <td>NaN</td>\n",
              "      <td>NaN</td>\n",
              "      <td>NaN</td>\n",
              "      <td>NaN</td>\n",
              "      <td>NaN</td>\n",
              "      <td>NaN</td>\n",
              "    </tr>\n",
              "    <tr>\n",
              "      <th>615</th>\n",
              "      <td>NaN</td>\n",
              "      <td>Alquiler piso alquiler de local entresuelo en ...</td>\n",
              "      <td>NaN</td>\n",
              "      <td>NaN</td>\n",
              "      <td>NaN</td>\n",
              "      <td>True</td>\n",
              "      <td>NaN</td>\n",
              "      <td>NaN</td>\n",
              "      <td>NaN</td>\n",
              "      <td>NaN</td>\n",
              "      <td>...</td>\n",
              "      <td>NaN</td>\n",
              "      <td>NaN</td>\n",
              "      <td>NaN</td>\n",
              "      <td>NaN</td>\n",
              "      <td>NaN</td>\n",
              "      <td>NaN</td>\n",
              "      <td>NaN</td>\n",
              "      <td>NaN</td>\n",
              "      <td>NaN</td>\n",
              "      <td>NaN</td>\n",
              "    </tr>\n",
              "    <tr>\n",
              "      <th>616</th>\n",
              "      <td>NaN</td>\n",
              "      <td>Alquiler piso en alquiler en edificio alba, sa...</td>\n",
              "      <td>NaN</td>\n",
              "      <td>NaN</td>\n",
              "      <td>NaN</td>\n",
              "      <td>True</td>\n",
              "      <td>NaN</td>\n",
              "      <td>NaN</td>\n",
              "      <td>NaN</td>\n",
              "      <td>NaN</td>\n",
              "      <td>...</td>\n",
              "      <td>NaN</td>\n",
              "      <td>NaN</td>\n",
              "      <td>NaN</td>\n",
              "      <td>NaN</td>\n",
              "      <td>NaN</td>\n",
              "      <td>NaN</td>\n",
              "      <td>NaN</td>\n",
              "      <td>NaN</td>\n",
              "      <td>NaN</td>\n",
              "      <td>NaN</td>\n",
              "    </tr>\n",
              "  </tbody>\n",
              "</table>\n",
              "<p>617 rows × 53 columns</p>\n",
              "</div>"
            ],
            "text/plain": [
              "          Precio                                             Título  \\\n",
              "0    A consultar                         Piso de alquiler en Centro   \n",
              "1     500 € /mes                  Apartamento de alquiler en Centro   \n",
              "2     900 € /mes          Piso de alquiler en Doctor Marañón Centro   \n",
              "3     750 € /mes                         Piso de alquiler en Centro   \n",
              "4     800 € /mes                         Piso de alquiler en Centro   \n",
              "..           ...                                                ...   \n",
              "612          NaN  Alquiler piso en barrio dEl Carmen en El Carme...   \n",
              "613          NaN  Alquiler apartamento en plaza san nicolas en M...   \n",
              "614          NaN  Alquiler apartamento exclusivo apto plaza flor...   \n",
              "615          NaN  Alquiler piso alquiler de local entresuelo en ...   \n",
              "616          NaN  Alquiler piso en alquiler en edificio alba, sa...   \n",
              "\n",
              "                                           Descripción     Fotos  \\\n",
              "0    TRABAJADORES Y ESTUDIANTES ATENCION!!!! VIVIEN...  18 Fotos   \n",
              "1    Maravilloso apartamento para entrar a vivir en...  21 Fotos   \n",
              "2    Se alquila estupenda vivienda recién reformada...  18 Fotos   \n",
              "3    Te presentamos este fabuloso apartamento situa...  30 Fotos   \n",
              "4    Fantástica vivienda en alquiler ubicada muy pr...  28 Fotos   \n",
              "..                                                 ...       ...   \n",
              "612                                                NaN       NaN   \n",
              "613                                                NaN       NaN   \n",
              "614                                                NaN       NaN   \n",
              "615                                                NaN       NaN   \n",
              "616                                                NaN       NaN   \n",
              "\n",
              "                 Dirección  Inmobiliaria                    Anunciante  \\\n",
              "0                   Centro          True      DPTO. COMERCIAL PISOSMUR   \n",
              "1                   Centro          True                BREXTOM MURCIA   \n",
              "2    Doctor Marañón Centro          True  ABAD SERVICIOS INMOBILIARIOS   \n",
              "3                   Centro          True  ABAD SERVICIOS INMOBILIARIOS   \n",
              "4                   Centro          True                BREXTOM MURCIA   \n",
              "..                     ...           ...                           ...   \n",
              "612                    NaN          True                           NaN   \n",
              "613                    NaN          True                           NaN   \n",
              "614                    NaN          True                           NaN   \n",
              "615                    NaN          True                           NaN   \n",
              "616                    NaN          True                           NaN   \n",
              "\n",
              "                          Habitaciones                              Baños  \\\n",
              "0    <span><span>4</span> habs.</span>  <span><span>2</span> baños</span>   \n",
              "1     <span><span>1</span> hab.</span>   <span><span>1</span> baño</span>   \n",
              "2    <span><span>4</span> habs.</span>  <span><span>2</span> baños</span>   \n",
              "3    <span><span>2</span> habs.</span>   <span><span>1</span> baño</span>   \n",
              "4    <span><span>3</span> habs.</span>  <span><span>2</span> baños</span>   \n",
              "..                                 ...                                ...   \n",
              "612                                NaN                                NaN   \n",
              "613                                NaN                                NaN   \n",
              "614                                NaN                                NaN   \n",
              "615                                NaN                                NaN   \n",
              "616                                NaN                                NaN   \n",
              "\n",
              "                           Superficie  ... Z. Comunitaria Piscina   TV  \\\n",
              "0    <span><span>110</span> m²</span>  ...            NaN     NaN  NaN   \n",
              "1     <span><span>46</span> m²</span>  ...            NaN     NaN  NaN   \n",
              "2    <span><span>169</span> m²</span>  ...            NaN     NaN  NaN   \n",
              "3     <span><span>77</span> m²</span>  ...            NaN     NaN  NaN   \n",
              "4    <span><span>104</span> m²</span>  ...            NaN     NaN  NaN   \n",
              "..                                ...  ...            ...     ...  ...   \n",
              "612                               NaN  ...            NaN     NaN  NaN   \n",
              "613                               NaN  ...            NaN     NaN  NaN   \n",
              "614                               NaN  ...            NaN     NaN  NaN   \n",
              "615                               NaN  ...            NaN     NaN  NaN   \n",
              "616                               NaN  ...            NaN     NaN  NaN   \n",
              "\n",
              "    Zona Deportiva Zona Infantil Piscina comunitaria Serv. portería Internet  \\\n",
              "0              NaN           NaN                 NaN            NaN      NaN   \n",
              "1              NaN           NaN                 NaN            NaN      NaN   \n",
              "2              NaN           NaN                 NaN            NaN      NaN   \n",
              "3              NaN           NaN                 NaN            NaN      NaN   \n",
              "4              NaN           NaN                 NaN            NaN      NaN   \n",
              "..             ...           ...                 ...            ...      ...   \n",
              "612            NaN           NaN                 NaN            NaN      NaN   \n",
              "613            NaN           NaN                 NaN            NaN      NaN   \n",
              "614            NaN           NaN                 NaN            NaN      NaN   \n",
              "615            NaN           NaN                 NaN            NaN      NaN   \n",
              "616            NaN           NaN                 NaN            NaN      NaN   \n",
              "\n",
              "    Suite - con baño Patio  \n",
              "0                NaN   NaN  \n",
              "1                NaN   NaN  \n",
              "2                NaN   NaN  \n",
              "3                NaN   NaN  \n",
              "4                NaN   NaN  \n",
              "..               ...   ...  \n",
              "612              NaN   NaN  \n",
              "613              NaN   NaN  \n",
              "614              NaN   NaN  \n",
              "615              NaN   NaN  \n",
              "616              NaN   NaN  \n",
              "\n",
              "[617 rows x 53 columns]"
            ]
          },
          "execution_count": 14,
          "metadata": {},
          "output_type": "execute_result"
        }
      ],
      "source": [
        "fotocasa1_df = fotocasa_df.drop(labels = [\"Domótica\", \"Pista de Tenis\",\"Alarma\",\"Mascotas\",\"Energía Solar\",\"Gimnasio\"], axis = 1)\n",
        "fotocasa1_df"
      ]
    },
    {
      "cell_type": "markdown",
      "id": "66e14b8f",
      "metadata": {
        "id": "66e14b8f"
      },
      "source": [
        "## EJERCICIO 13"
      ]
    },
    {
      "cell_type": "markdown",
      "id": "ef449a83",
      "metadata": {
        "id": "ef449a83"
      },
      "source": [
        "Renombra a continuación la columna Tipo de inmueble de fotocasa1_df por Tipo. Asigna el resultado a la variable fotocasa2_df:"
      ]
    },
    {
      "cell_type": "code",
      "execution_count": 70,
      "id": "wagL4Xb8WrZS",
      "metadata": {
        "colab": {
          "base_uri": "https://localhost:8080/"
        },
        "id": "wagL4Xb8WrZS",
        "outputId": "9e57abb5-e7a6-4290-93e6-c1e4de508663"
      },
      "outputs": [
        {
          "name": "stdout",
          "output_type": "stream",
          "text": [
            "Index(['Precio', 'Título', 'Descripción', 'Fotos', 'Dirección', 'Inmobiliaria',\n",
            "       'Anunciante', 'Habitaciones', 'Baños', 'Superficie', 'Tipo', 'Ascensor',\n",
            "       'Amueblado', 'Depósito', 'Gastos de comunidad', 'Consumo energía',\n",
            "       'Emisiones', 'Aire acondicionado', 'Armarios', 'Electrodomésticos',\n",
            "       'Horno', 'Lavadora', 'Microondas', 'Nevera', 'Videoportero',\n",
            "       'Puerta Blindada', 'Lavadero', 'Cocina Equipada', 'Enlace', 'Planta',\n",
            "       'Antigüedad', 'Calefacción', 'Terraza', 'Balcón', 'Orientación',\n",
            "       'Estado', 'Parking', 'Gres Cerámica', 'Cocina Office', 'Trastero',\n",
            "       'Agua caliente', 'Jardín Privado', 'Parquet', 'Z. Comunitaria',\n",
            "       'Piscina', 'TV', 'Zona Deportiva', 'Zona Infantil',\n",
            "       'Piscina comunitaria', 'Serv. portería', 'Internet', 'Suite - con baño',\n",
            "       'Patio'],\n",
            "      dtype='object')\n"
          ]
        }
      ],
      "source": [
        "fotocasa2_df = fotocasa1_df.rename(columns = {\"Tipo de inmueble\": \"Tipo\"}).copy()\n",
        "print(fotocasa2_df.columns)"
      ]
    },
    {
      "cell_type": "markdown",
      "id": "chNr1hEYYgDy",
      "metadata": {
        "id": "chNr1hEYYgDy"
      },
      "source": []
    },
    {
      "cell_type": "markdown",
      "id": "5d8cb243",
      "metadata": {
        "id": "5d8cb243"
      },
      "source": [
        "## EJERCICIO 14"
      ]
    },
    {
      "cell_type": "markdown",
      "id": "f235bf13",
      "metadata": {
        "id": "f235bf13"
      },
      "source": [
        "Elimina del DataFrame aquellos pisos que no tienen Precio o que su Precio sea \"A consultar\". Asigna el resultado a la variable fotocasa4_df:\n",
        "\n",
        "PISTA: para seleccionar los alquileres sin precio utiliza el método isnull(). Utiliza notnull() para seleccionar los alquileres con precio.."
      ]
    },
    {
      "cell_type": "code",
      "execution_count": 24,
      "id": "Pqinc0TQYqyr",
      "metadata": {
        "id": "Pqinc0TQYqyr"
      },
      "outputs": [
        {
          "name": "stdout",
          "output_type": "stream",
          "text": [
            "         Precio                                             Título  \\\n",
            "1    500 € /mes                  Apartamento de alquiler en Centro   \n",
            "2    900 € /mes          Piso de alquiler en Doctor Marañón Centro   \n",
            "3    750 € /mes                         Piso de alquiler en Centro   \n",
            "4    800 € /mes                         Piso de alquiler en Centro   \n",
            "5    650 € /mes     Ático de alquiler en Calle Ángel Guirao Centro   \n",
            "..          ...                                                ...   \n",
            "589  600 € /mes  Piso de alquiler en Calle Jorge Guillén Juan C...   \n",
            "590  800 € /mes          Piso de alquiler en Santa María de Gracia   \n",
            "591  800 € /mes          Piso de alquiler en Santa María de Gracia   \n",
            "593  800 € /mes          Piso de alquiler en Calle Joselito Centro   \n",
            "596  850 € /mes                         Piso de alquiler en Centro   \n",
            "\n",
            "                                           Descripción     Fotos  \\\n",
            "1    Maravilloso apartamento para entrar a vivir en...  21 Fotos   \n",
            "2    Se alquila estupenda vivienda recién reformada...  18 Fotos   \n",
            "3    Te presentamos este fabuloso apartamento situa...  30 Fotos   \n",
            "4    Fantástica vivienda en alquiler ubicada muy pr...  28 Fotos   \n",
            "5    MAGNIFICA UBICACION ATICO JUNTO AL TEATRO ROME...   9 Fotos   \n",
            "..                                                 ...       ...   \n",
            "589  ATENCION ESTUDIANTES!!!! BARRIO DE VISTA ALEGR...  10 Fotos   \n",
            "590  ATENCIÓN ESTUDIANTES VIVIENDA JUNTO A LA PLAZA...   9 Fotos   \n",
            "591  ATENCIÓN ESTUDIANTES MAGNIFICO PISOS EN SANTA ...  11 Fotos   \n",
            "593  ATENCIÓN ESTUDIANTES!!!!MAGNIFICA VIVIENDA JUN...  10 Fotos   \n",
            "596  ATENCIÓN ESTUDIANTES, MAGNIFICA VIVIENDA EN CA...  10 Fotos   \n",
            "\n",
            "                             Dirección  Inmobiliaria  \\\n",
            "1                               Centro          True   \n",
            "2                Doctor Marañón Centro          True   \n",
            "3                               Centro          True   \n",
            "4                               Centro          True   \n",
            "5            Calle Ángel Guirao Centro          True   \n",
            "..                                 ...           ...   \n",
            "589  Calle Jorge Guillén Juan Carlos I          True   \n",
            "590              Santa María de Gracia          True   \n",
            "591              Santa María de Gracia          True   \n",
            "593              Calle Joselito Centro          True   \n",
            "596                             Centro          True   \n",
            "\n",
            "                       Anunciante                       Habitaciones  \\\n",
            "1                  BREXTOM MURCIA   <span><span>1</span> hab.</span>   \n",
            "2    ABAD SERVICIOS INMOBILIARIOS  <span><span>4</span> habs.</span>   \n",
            "3    ABAD SERVICIOS INMOBILIARIOS  <span><span>2</span> habs.</span>   \n",
            "4                  BREXTOM MURCIA  <span><span>3</span> habs.</span>   \n",
            "5        DPTO. COMERCIAL PISOSMUR  <span><span>2</span> habs.</span>   \n",
            "..                            ...                                ...   \n",
            "589      DPTO. COMERCIAL PISOSMUR  <span><span>3</span> habs.</span>   \n",
            "590      DPTO. COMERCIAL PISOSMUR  <span><span>4</span> habs.</span>   \n",
            "591      DPTO. COMERCIAL PISOSMUR  <span><span>4</span> habs.</span>   \n",
            "593      DPTO. COMERCIAL PISOSMUR  <span><span>4</span> habs.</span>   \n",
            "596      DPTO. COMERCIAL PISOSMUR  <span><span>4</span> habs.</span>   \n",
            "\n",
            "                                 Baños                        Superficie  ...  \\\n",
            "1     <span><span>1</span> baño</span>   <span><span>46</span> m²</span>  ...   \n",
            "2    <span><span>2</span> baños</span>  <span><span>169</span> m²</span>  ...   \n",
            "3     <span><span>1</span> baño</span>   <span><span>77</span> m²</span>  ...   \n",
            "4    <span><span>2</span> baños</span>  <span><span>104</span> m²</span>  ...   \n",
            "5     <span><span>1</span> baño</span>   <span><span>80</span> m²</span>  ...   \n",
            "..                                 ...                               ...  ...   \n",
            "589  <span><span>2</span> baños</span>   <span><span>80</span> m²</span>  ...   \n",
            "590  <span><span>2</span> baños</span>  <span><span>115</span> m²</span>  ...   \n",
            "591  <span><span>2</span> baños</span>  <span><span>130</span> m²</span>  ...   \n",
            "593  <span><span>2</span> baños</span>  <span><span>100</span> m²</span>  ...   \n",
            "596  <span><span>2</span> baños</span>                               NaN  ...   \n",
            "\n",
            "    Z. Comunitaria Piscina    TV Zona Deportiva Zona Infantil  \\\n",
            "1              NaN     NaN   NaN            NaN           NaN   \n",
            "2              NaN     NaN   NaN            NaN           NaN   \n",
            "3              NaN     NaN   NaN            NaN           NaN   \n",
            "4              NaN     NaN   NaN            NaN           NaN   \n",
            "5              NaN     NaN   NaN            NaN           NaN   \n",
            "..             ...     ...   ...            ...           ...   \n",
            "589            NaN     NaN   NaN            NaN           NaN   \n",
            "590            NaN     NaN   NaN            NaN           NaN   \n",
            "591            NaN     NaN   NaN            NaN           NaN   \n",
            "593            NaN     NaN   NaN            NaN           NaN   \n",
            "596            NaN     NaN  True            NaN           NaN   \n",
            "\n",
            "    Piscina comunitaria Serv. portería Internet Suite - con baño Patio  \n",
            "1                   NaN            NaN      NaN              NaN   NaN  \n",
            "2                   NaN            NaN      NaN              NaN   NaN  \n",
            "3                   NaN            NaN      NaN              NaN   NaN  \n",
            "4                   NaN            NaN      NaN              NaN   NaN  \n",
            "5                   NaN            NaN      NaN              NaN   NaN  \n",
            "..                  ...            ...      ...              ...   ...  \n",
            "589                 NaN            NaN      NaN              NaN  True  \n",
            "590                 NaN            NaN      NaN              NaN   NaN  \n",
            "591                 NaN            NaN      NaN              NaN   NaN  \n",
            "593                 NaN            NaN      NaN              NaN   NaN  \n",
            "596                 NaN            NaN      NaN              NaN   NaN  \n",
            "\n",
            "[588 rows x 53 columns]\n"
          ]
        }
      ],
      "source": [
        "\n",
        "fotocasa4_df = fotocasa1_df[(fotocasa1_df['Precio'] != 'A consultar') & (fotocasa1_df['Precio'].notnull())]\n",
        "print(fotocasa4_df)\n"
      ]
    },
    {
      "cell_type": "markdown",
      "id": "7c5bac3c",
      "metadata": {
        "id": "7c5bac3c"
      },
      "source": [
        "## EJERCICIO 15"
      ]
    },
    {
      "cell_type": "markdown",
      "id": "ed66bd5b",
      "metadata": {
        "id": "ed66bd5b"
      },
      "source": [
        "Utiliza la función astype para convertir las columnas Tipo, Orientación, Estado y Parking a tipo categórico. Asigna los resultados a la variable fotocasa5_df y comprueba mediante el parámetro dtype que el tipo asignado sea correcto:"
      ]
    },
    {
      "cell_type": "code",
      "execution_count": 30,
      "id": "66e262f1",
      "metadata": {},
      "outputs": [
        {
          "name": "stdout",
          "output_type": "stream",
          "text": [
            "Precio                   object\n",
            "Título                   object\n",
            "Descripción              object\n",
            "Fotos                    object\n",
            "Dirección                object\n",
            "Inmobiliaria               bool\n",
            "Anunciante               object\n",
            "Habitaciones             object\n",
            "Baños                    object\n",
            "Superficie               object\n",
            "Tipo                   category\n",
            "Ascensor                 object\n",
            "Amueblado                object\n",
            "Depósito                 object\n",
            "Gastos de comunidad      object\n",
            "Consumo energía          object\n",
            "Emisiones                object\n",
            "Aire acondicionado       object\n",
            "Armarios                 object\n",
            "Electrodomésticos        object\n",
            "Horno                    object\n",
            "Lavadora                 object\n",
            "Microondas               object\n",
            "Nevera                   object\n",
            "Videoportero             object\n",
            "Puerta Blindada          object\n",
            "Lavadero                 object\n",
            "Cocina Equipada          object\n",
            "Enlace                   object\n",
            "Planta                   object\n",
            "Antigüedad               object\n",
            "Calefacción              object\n",
            "Terraza                  object\n",
            "Balcón                   object\n",
            "Orientación            category\n",
            "Estado                 category\n",
            "Parking                category\n",
            "Gres Cerámica            object\n",
            "Cocina Office            object\n",
            "Trastero                 object\n",
            "Agua caliente            object\n",
            "Jardín Privado           object\n",
            "Parquet                  object\n",
            "Z. Comunitaria           object\n",
            "Piscina                  object\n",
            "TV                       object\n",
            "Zona Deportiva           object\n",
            "Zona Infantil            object\n",
            "Piscina comunitaria      object\n",
            "Serv. portería           object\n",
            "Internet                 object\n",
            "Suite - con baño         object\n",
            "Patio                    object\n",
            "dtype: object\n"
          ]
        }
      ],
      "source": [
        "fotocasa5_df = fotocasa2_df.astype({'Tipo': 'category', 'Orientación': 'category', 'Estado': 'category', 'Parking': 'category'})\n",
        "print(fotocasa5_df.dtypes)"
      ]
    },
    {
      "cell_type": "markdown",
      "id": "2223ff4c",
      "metadata": {
        "id": "2223ff4c"
      },
      "source": [
        "## EJERCICIO 16"
      ]
    },
    {
      "cell_type": "markdown",
      "id": "df0c3d80",
      "metadata": {
        "id": "df0c3d80"
      },
      "source": [
        "Cargar el fichero situado en https://raw.githubusercontent.com/ainaramu-icjardin/big_data/main/ciudades_ejemplo.csv\n",
        "como un dataframe Pandas, y guardarlo a continuación en formato excel."
      ]
    },
    {
      "cell_type": "markdown",
      "id": "a6304ee6",
      "metadata": {
        "id": "a6304ee6"
      },
      "source": [
        "## EJERCICIO 17"
      ]
    },
    {
      "cell_type": "markdown",
      "id": "788c7d0a",
      "metadata": {
        "id": "788c7d0a"
      },
      "source": [
        "Cargar el fichero \"https://raw.githubusercontent.com/ainaramu-icjardin/big_data/main/parocomunidades.csv\" que está con codificación (encoding) \"latin1\" y dejarlo en un dataframe df_paro.\n",
        "\n",
        "Mostrar solo las filas de `df_paro` que corresponden al Periodo 2019.\n",
        "\n",
        "Mostrar solo las filas de df_paro que corresponden a un total mayor de 15.\n",
        "\n",
        "Mostrar solo las filas que corresponden al Periodo 2019 y tienen Total mayor de 15."
      ]
    },
    {
      "cell_type": "markdown",
      "id": "d4499388",
      "metadata": {
        "id": "d4499388"
      },
      "source": [
        "## <ins>Ejercicios Opcionales </ins>"
      ]
    },
    {
      "cell_type": "markdown",
      "id": "e207b56d",
      "metadata": {
        "id": "e207b56d"
      },
      "source": [
        "## EJERCICIO 18"
      ]
    },
    {
      "cell_type": "markdown",
      "id": "052f87b0",
      "metadata": {
        "id": "052f87b0"
      },
      "source": [
        "Investiga el método .sort_values() para ordenar las observaciones según la longitud de las palabras en orden descendente."
      ]
    },
    {
      "cell_type": "markdown",
      "id": "2639e1ab",
      "metadata": {
        "id": "2639e1ab"
      },
      "source": [
        "## EJERCICIO 19"
      ]
    },
    {
      "cell_type": "markdown",
      "id": "3196772c",
      "metadata": {
        "id": "3196772c"
      },
      "source": [
        "Convierte la columna vowels a lista y, con sorted() ordénala de mayor a menor. Investiga para ello el método .tolist()."
      ]
    },
    {
      "cell_type": "markdown",
      "id": "61777947",
      "metadata": {
        "id": "61777947"
      },
      "source": [
        "## EJERCICIO 20"
      ]
    },
    {
      "cell_type": "markdown",
      "id": "17af4349",
      "metadata": {
        "id": "17af4349"
      },
      "source": [
        "Recupera aquellos pisos que ocupan una posición múltiplo de 100:"
      ]
    },
    {
      "cell_type": "markdown",
      "id": "274661d0",
      "metadata": {
        "id": "274661d0"
      },
      "source": [
        "## EJERCICIO 21"
      ]
    },
    {
      "cell_type": "markdown",
      "id": "b6ad7a6f",
      "metadata": {
        "id": "b6ad7a6f"
      },
      "source": [
        "Muestra el piso que se encuentra en la posición 7:"
      ]
    },
    {
      "cell_type": "markdown",
      "id": "edbe24c0",
      "metadata": {
        "id": "edbe24c0"
      },
      "source": [
        "## EJERCICIO 22"
      ]
    },
    {
      "cell_type": "markdown",
      "id": "cc54c300",
      "metadata": {
        "id": "cc54c300"
      },
      "source": [
        "Muestra el piso cuyo índice vale 9:"
      ]
    },
    {
      "cell_type": "markdown",
      "id": "c543d072",
      "metadata": {
        "id": "c543d072"
      },
      "source": [
        "## EJERCICIO 23"
      ]
    },
    {
      "cell_type": "markdown",
      "id": "f9d437ee",
      "metadata": {
        "id": "f9d437ee"
      },
      "source": [
        "Muestra el campo Dirección de los tres primeros pisos. Utiliza para ello tanto el operador ```[]``` como ```[[]]```. ¿Qué diferencia encuentras?"
      ]
    },
    {
      "cell_type": "markdown",
      "id": "91951d7d",
      "metadata": {
        "id": "91951d7d"
      },
      "source": [
        "## EJERCICIO 24"
      ]
    },
    {
      "cell_type": "markdown",
      "id": "381312d3",
      "metadata": {
        "id": "381312d3"
      },
      "source": [
        "Muestra los campos Inmobiliaria y Tipo de inmueble de los tres últimos pisos:"
      ]
    },
    {
      "cell_type": "markdown",
      "id": "5626bf1b",
      "metadata": {
        "id": "5626bf1b"
      },
      "source": [
        "## EJERCICIO 25"
      ]
    },
    {
      "cell_type": "markdown",
      "id": "a3e08a47",
      "metadata": {
        "id": "a3e08a47"
      },
      "source": [
        "Muestra el valor del DataFrame contenido en la posición (2,2):"
      ]
    },
    {
      "cell_type": "markdown",
      "id": "38293350",
      "metadata": {
        "id": "38293350"
      },
      "source": [
        "## EJERCICIO 26"
      ]
    },
    {
      "cell_type": "markdown",
      "id": "460d4de1",
      "metadata": {
        "id": "460d4de1"
      },
      "source": [
        "Muestra el valor del DataFrame cuyo índice es 2 y cuya columna es Título:"
      ]
    },
    {
      "cell_type": "markdown",
      "id": "3d59e291",
      "metadata": {
        "id": "3d59e291"
      },
      "source": [
        "## EJERCICIO 27"
      ]
    },
    {
      "cell_type": "markdown",
      "id": "90422333",
      "metadata": {
        "id": "90422333"
      },
      "source": [
        "Muestra los tres primeros inmuebles de Tipo de inmueble = Apartamento:"
      ]
    },
    {
      "cell_type": "markdown",
      "id": "4782f1d2",
      "metadata": {
        "id": "4782f1d2"
      },
      "source": [
        "## EJERCICIO 28"
      ]
    },
    {
      "cell_type": "markdown",
      "id": "b6e5cbaf",
      "metadata": {
        "id": "b6e5cbaf"
      },
      "source": [
        "Muestra los dos primeros inmuebles de Tipo de inmueble = Piso y que no se alquilen por inmobiliaria (Inmobiliaria = False):"
      ]
    },
    {
      "cell_type": "markdown",
      "id": "f2d48ba8",
      "metadata": {
        "id": "f2d48ba8"
      },
      "source": [
        "## EJERCICIO 29"
      ]
    },
    {
      "cell_type": "markdown",
      "id": "18e1b9ff",
      "metadata": {
        "id": "18e1b9ff"
      },
      "source": [
        "Elimina del DataFrame contenido en fotocasa2_df los alquileres de la posición 597 y 598. Asigna el resultado a fotocasa3_df:"
      ]
    }
  ],
  "metadata": {
    "colab": {
      "provenance": []
    },
    "kernelspec": {
      "display_name": "Python 3",
      "language": "python",
      "name": "python3"
    },
    "language_info": {
      "codemirror_mode": {
        "name": "ipython",
        "version": 3
      },
      "file_extension": ".py",
      "mimetype": "text/x-python",
      "name": "python",
      "nbconvert_exporter": "python",
      "pygments_lexer": "ipython3",
      "version": "3.12.7"
    }
  },
  "nbformat": 4,
  "nbformat_minor": 5
}
