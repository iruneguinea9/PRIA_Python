{
  "cells": [
    {
      "cell_type": "markdown",
      "id": "d287d88e",
      "metadata": {
        "id": "d287d88e"
      },
      "source": [
        "# LISTA 11 - PANDAS"
      ]
    },
    {
      "cell_type": "markdown",
      "id": "5abe7c16",
      "metadata": {
        "id": "5abe7c16"
      },
      "source": [
        "## <ins>Ejercicios Obligatorios </ins>"
      ]
    },
    {
      "cell_type": "code",
      "execution_count": 1,
      "id": "336c39bd-b1dd-4ec7-807b-82612a36cebe",
      "metadata": {
        "tags": [],
        "id": "336c39bd-b1dd-4ec7-807b-82612a36cebe"
      },
      "outputs": [],
      "source": [
        "import pandas as pd\n",
        "import numpy as np\n",
        "import matplotlib.pyplot as plt\n",
        "from pandas import Series, DataFrame"
      ]
    },
    {
      "cell_type": "markdown",
      "id": "f99190d1",
      "metadata": {
        "id": "f99190d1"
      },
      "source": [
        "## EJERCICIO 1"
      ]
    },
    {
      "cell_type": "markdown",
      "id": "b3836703",
      "metadata": {
        "id": "b3836703"
      },
      "source": [
        "Crea un dataframe con 15 filas y 2 columnas. La primera columna se llamará x, la segunda y. Cada entrada será un número aleatorio (puedes usar random.normal() de la librería numpy). Guarda el dataframe en una variable llamada points."
      ]
    },
    {
      "cell_type": "code",
      "execution_count": 14,
      "id": "9c09e6d7-32a7-486b-92b7-eb1646acf21f",
      "metadata": {
        "tags": [],
        "id": "9c09e6d7-32a7-486b-92b7-eb1646acf21f",
        "outputId": "72474d0d-1ea4-4482-f52b-fb3a8bd5cd6c",
        "colab": {
          "base_uri": "https://localhost:8080/"
        }
      },
      "outputs": [
        {
          "output_type": "stream",
          "name": "stdout",
          "text": [
            "     x   y\n",
            "0    6   2\n",
            "1   29  48\n",
            "2  -16  33\n",
            "3   44  19\n",
            "4  -38  17\n",
            "5   39  31\n",
            "6   33  39\n",
            "7   -1  17\n",
            "8   49 -48\n",
            "9  -48 -46\n",
            "10  25  44\n",
            "11  27  41\n",
            "12  -8  -7\n",
            "13 -11 -27\n",
            "14   7 -16\n"
          ]
        }
      ],
      "source": [
        "import random\n",
        "x = []\n",
        "y = []\n",
        "for i in range (15):\n",
        "    x.append(random.randint(-50, 50))\n",
        "    y.append(random.randint(-50, 50))\n",
        "data = {\"x\": x, \"y\": y}\n",
        "points = pd.DataFrame(data = data)\n",
        "print(points)\n"
      ]
    },
    {
      "cell_type": "markdown",
      "id": "feb0417e",
      "metadata": {
        "id": "feb0417e"
      },
      "source": [
        "## EJERCICIO 2"
      ]
    },
    {
      "cell_type": "markdown",
      "id": "91cd8f7c",
      "metadata": {
        "id": "91cd8f7c"
      },
      "source": [
        "Del dataframe points, muestra las filas cuyo valor en la columna x sea positivo."
      ]
    },
    {
      "cell_type": "code",
      "execution_count": 19,
      "id": "6bd457ba-4888-4018-9b5f-39494a9d57a6",
      "metadata": {
        "id": "6bd457ba-4888-4018-9b5f-39494a9d57a6",
        "outputId": "cba6b4c1-6df8-49c1-eeb8-7de1b457de7a",
        "colab": {
          "base_uri": "https://localhost:8080/"
        }
      },
      "outputs": [
        {
          "output_type": "stream",
          "name": "stdout",
          "text": [
            "6\n",
            "29\n",
            "44\n",
            "39\n",
            "33\n",
            "49\n",
            "25\n",
            "27\n",
            "7\n"
          ]
        }
      ],
      "source": [
        "for i in points['x']:\n",
        "  if(i > 0):\n",
        "    print (i)\n",
        "\n",
        "\n"
      ]
    },
    {
      "cell_type": "markdown",
      "id": "abf81a65",
      "metadata": {
        "id": "abf81a65"
      },
      "source": [
        "## EJERCICIO 3"
      ]
    },
    {
      "cell_type": "markdown",
      "id": "c0dda757",
      "metadata": {
        "id": "c0dda757"
      },
      "source": [
        "Del dataframe points, muestra las filas cuyo valor en la columna y sea negativo."
      ]
    },
    {
      "cell_type": "code",
      "source": [
        "for i in points['y']:\n",
        "  if(i < 0):\n",
        "    print (i)"
      ],
      "metadata": {
        "id": "DiEZI0x7N_bo",
        "outputId": "c47ed1f6-b282-4663-9ec3-cd6f95775d1d",
        "colab": {
          "base_uri": "https://localhost:8080/"
        }
      },
      "id": "DiEZI0x7N_bo",
      "execution_count": 20,
      "outputs": [
        {
          "output_type": "stream",
          "name": "stdout",
          "text": [
            "-48\n",
            "-46\n",
            "-7\n",
            "-27\n",
            "-16\n"
          ]
        }
      ]
    },
    {
      "cell_type": "markdown",
      "id": "4d68e82b",
      "metadata": {
        "id": "4d68e82b"
      },
      "source": [
        "## EJERCICIO 4"
      ]
    },
    {
      "cell_type": "markdown",
      "id": "ec7f3b2a",
      "metadata": {
        "id": "ec7f3b2a"
      },
      "source": [
        ":Del dataframe points, muestra las observaciones cuyos puntos (x, y) pertenezcan al primer cuadrante."
      ]
    },
    {
      "cell_type": "code",
      "source": [
        "primer_cuadrante = points[(points['x'] > 0) & (points['y'] > 0)]\n",
        "\n",
        "print(primer_cuadrante)"
      ],
      "metadata": {
        "id": "L8aAdGFQOES9",
        "outputId": "c6669bda-b13b-4321-e6b8-bd9b95c930e1",
        "colab": {
          "base_uri": "https://localhost:8080/"
        }
      },
      "id": "L8aAdGFQOES9",
      "execution_count": 26,
      "outputs": [
        {
          "output_type": "stream",
          "name": "stdout",
          "text": [
            "     x   y\n",
            "0    6   2\n",
            "1   29  48\n",
            "3   44  19\n",
            "5   39  31\n",
            "6   33  39\n",
            "10  25  44\n",
            "11  27  41\n"
          ]
        }
      ]
    },
    {
      "cell_type": "markdown",
      "id": "5c943554",
      "metadata": {
        "id": "5c943554"
      },
      "source": [
        "## EJERCICIO 5"
      ]
    },
    {
      "cell_type": "markdown",
      "id": "13d2c744",
      "metadata": {
        "id": "13d2c744"
      },
      "source": [
        "Del dataframe points, muestra las observaciones de la forma: “El punto ({x}, {y}) {no/sí} pertenece al primer cuadrante”."
      ]
    },
    {
      "cell_type": "code",
      "source": [
        "for index, row in points.iterrows():\n",
        "    x, y = row['x'], row['y']\n",
        "    if row['x'] > 0 and row['y'] > 0:\n",
        "        message = f\"El punto ({x}, {y}) sí pertenece al primer cuadrante.\"\n",
        "    else:\n",
        "        message = f\"El punto ({x}, {y}) no pertenece al primer cuadrante.\"\n",
        "    print(message)\n"
      ],
      "metadata": {
        "id": "4b7U58GWOv4Q",
        "outputId": "cea264f6-c8ee-4da8-b13c-12c1f7b43316",
        "colab": {
          "base_uri": "https://localhost:8080/"
        }
      },
      "id": "4b7U58GWOv4Q",
      "execution_count": 33,
      "outputs": [
        {
          "output_type": "stream",
          "name": "stdout",
          "text": [
            "El punto (6, 2) sí pertenece al primer cuadrante.\n",
            "El punto (29, 48) sí pertenece al primer cuadrante.\n",
            "El punto (-16, 33) no pertenece al primer cuadrante.\n",
            "El punto (44, 19) sí pertenece al primer cuadrante.\n",
            "El punto (-38, 17) no pertenece al primer cuadrante.\n",
            "El punto (39, 31) sí pertenece al primer cuadrante.\n",
            "El punto (33, 39) sí pertenece al primer cuadrante.\n",
            "El punto (-1, 17) no pertenece al primer cuadrante.\n",
            "El punto (49, -48) no pertenece al primer cuadrante.\n",
            "El punto (-48, -46) no pertenece al primer cuadrante.\n",
            "El punto (25, 44) sí pertenece al primer cuadrante.\n",
            "El punto (27, 41) sí pertenece al primer cuadrante.\n",
            "El punto (-8, -7) no pertenece al primer cuadrante.\n",
            "El punto (-11, -27) no pertenece al primer cuadrante.\n",
            "El punto (7, -16) no pertenece al primer cuadrante.\n"
          ]
        }
      ]
    },
    {
      "cell_type": "markdown",
      "id": "2972dd7e",
      "metadata": {
        "id": "2972dd7e"
      },
      "source": [
        "## EJERCICIO 6"
      ]
    },
    {
      "cell_type": "markdown",
      "id": "ef3c12ce",
      "metadata": {
        "id": "ef3c12ce"
      },
      "source": [
        "Crea un dataframe con 10 filas y 4 columnas. La primera columna se llamará word; la segunda, length; la tercera, vowels; y la última, consonants. La columna words contendrá las siguientes 10 palabras: “euro”, “diez” “algas”, “broma”, “cicuta”, “fatiga”, “nachos”, “jadeos”, “hazañas”, “boutique”. Las columnas length, vowels y consonants contendrán, respectivamente, la longitud, el total de vocales y el total de consonantes (añade las columnas calculando su valor por código). Guarda el dataframe en la variable words."
      ]
    },
    {
      "cell_type": "code",
      "source": [
        "words = [\"euro\", \"diez\", \"algas\", \"broma\", \"cicuta\", \"fatiga\", \"nachos\", \"jadeos\", \"hazañas\", \"boutique\"]\n",
        "\n",
        "df = pd.DataFrame({\n",
        "    'word': words,\n",
        "    'length': [len(word) for word in words],\n",
        "    'vowels': [sum(1 for char in word.lower() if char in 'aeiou') for word in words],\n",
        "    'consonants': [len(word) - sum(1 for char in word.lower() if char in 'aeiou') for word in words]\n",
        "})\n",
        "print (df)\n"
      ],
      "metadata": {
        "id": "M_Q5y4YkQ9hY",
        "outputId": "b240a2ec-8a73-4ef3-91aa-bfb381c3fc58",
        "colab": {
          "base_uri": "https://localhost:8080/"
        }
      },
      "id": "M_Q5y4YkQ9hY",
      "execution_count": 34,
      "outputs": [
        {
          "output_type": "stream",
          "name": "stdout",
          "text": [
            "       word  length  vowels  consonants\n",
            "0      euro       4       3           1\n",
            "1      diez       4       2           2\n",
            "2     algas       5       2           3\n",
            "3     broma       5       2           3\n",
            "4    cicuta       6       3           3\n",
            "5    fatiga       6       3           3\n",
            "6    nachos       6       2           4\n",
            "7    jadeos       6       3           3\n",
            "8   hazañas       7       3           4\n",
            "9  boutique       8       5           3\n"
          ]
        }
      ]
    },
    {
      "cell_type": "markdown",
      "id": "cbbfb36c",
      "metadata": {
        "id": "cbbfb36c"
      },
      "source": [
        "## EJERCICIO 7"
      ]
    },
    {
      "cell_type": "markdown",
      "id": "f0211a75",
      "metadata": {
        "id": "f0211a75"
      },
      "source": [
        "Muestra las 10 observaciones de words con el formato “La palabra {word} tiene {length} letras, de las cuales {vowels} son vocales y {consonants} consonantes”."
      ]
    },
    {
      "cell_type": "code",
      "source": [
        "\n",
        "\n",
        "\n",
        "for column, row in df.iterrows():\n",
        "    print(f\"La palabra {row['word']} tiene {row['length']} letras, de las cuales {row['vowels']} son vocales y {row['consonants']} consonantes.\")"
      ],
      "metadata": {
        "id": "_9We8IRNRgMP",
        "outputId": "75569f77-13bf-4bd0-c746-720b138f38c2",
        "colab": {
          "base_uri": "https://localhost:8080/"
        }
      },
      "id": "_9We8IRNRgMP",
      "execution_count": 50,
      "outputs": [
        {
          "output_type": "stream",
          "name": "stdout",
          "text": [
            "La palabra euro tiene 4 letras, de las cuales 3 son vocales y 1 consonantes.\n",
            "La palabra diez tiene 4 letras, de las cuales 2 son vocales y 2 consonantes.\n",
            "La palabra algas tiene 5 letras, de las cuales 2 son vocales y 3 consonantes.\n",
            "La palabra broma tiene 5 letras, de las cuales 2 son vocales y 3 consonantes.\n",
            "La palabra cicuta tiene 6 letras, de las cuales 3 son vocales y 3 consonantes.\n",
            "La palabra fatiga tiene 6 letras, de las cuales 3 son vocales y 3 consonantes.\n",
            "La palabra nachos tiene 6 letras, de las cuales 2 son vocales y 4 consonantes.\n",
            "La palabra jadeos tiene 6 letras, de las cuales 3 son vocales y 3 consonantes.\n",
            "La palabra hazañas tiene 7 letras, de las cuales 3 son vocales y 4 consonantes.\n",
            "La palabra boutique tiene 8 letras, de las cuales 5 son vocales y 3 consonantes.\n"
          ]
        }
      ]
    },
    {
      "cell_type": "markdown",
      "id": "59397f22",
      "metadata": {
        "id": "59397f22"
      },
      "source": [
        "## EJERCICIO 8"
      ]
    },
    {
      "cell_type": "markdown",
      "id": "8272bcdf",
      "metadata": {
        "id": "8272bcdf"
      },
      "source": [
        "Muestra aquellas observaciones de words que tienen el mismo número de vocales y consonantes."
      ]
    },
    {
      "cell_type": "code",
      "source": [
        "\n",
        "for index, row in df.iterrows():\n",
        "    if row['vowels'] == row['consonants']:\n",
        "      print(row)"
      ],
      "metadata": {
        "id": "6FLOsQC1TYZw",
        "outputId": "57deed67-0647-4407-a45a-5c7e6c8dbd0d",
        "colab": {
          "base_uri": "https://localhost:8080/"
        }
      },
      "id": "6FLOsQC1TYZw",
      "execution_count": 56,
      "outputs": [
        {
          "output_type": "stream",
          "name": "stdout",
          "text": [
            "word          diez\n",
            "length           4\n",
            "vowels           2\n",
            "consonants       2\n",
            "Name: 1, dtype: object\n",
            "word          cicuta\n",
            "length             6\n",
            "vowels             3\n",
            "consonants         3\n",
            "Name: 4, dtype: object\n",
            "word          fatiga\n",
            "length             6\n",
            "vowels             3\n",
            "consonants         3\n",
            "Name: 5, dtype: object\n",
            "word          jadeos\n",
            "length             6\n",
            "vowels             3\n",
            "consonants         3\n",
            "Name: 7, dtype: object\n"
          ]
        }
      ]
    },
    {
      "cell_type": "markdown",
      "id": "a157cc9d",
      "metadata": {
        "id": "a157cc9d"
      },
      "source": [
        "## EJERCICIO 9"
      ]
    },
    {
      "cell_type": "markdown",
      "id": "41b16d4b",
      "metadata": {
        "id": "41b16d4b"
      },
      "source": [
        "El siguiente DataFrame contiene información de los pisos en alquiler en Murcia a fecha de 31/12/2020:\n",
        "```\n",
        "fotocasa_df = pd.read_csv(\"https://drive.google.com/uc?export=view&id=1DwvALe87aeDzTk7s6xGPDd6itJ65s4YE\", index_col = 0)\n",
        "```\n",
        "Muestra el número de filas, columnas y valores que contiene el DataFrame cargado:"
      ]
    },
    {
      "cell_type": "markdown",
      "id": "5c606a0f",
      "metadata": {
        "id": "5c606a0f"
      },
      "source": [
        "## EJERCICIO 10"
      ]
    },
    {
      "cell_type": "markdown",
      "id": "3b8ae681",
      "metadata": {
        "id": "3b8ae681"
      },
      "source": [
        "Recupera los cinco primeros pisos (filas)"
      ]
    },
    {
      "cell_type": "markdown",
      "id": "f33f8820",
      "metadata": {
        "id": "f33f8820"
      },
      "source": [
        "## EJERCICIO 11"
      ]
    },
    {
      "cell_type": "markdown",
      "id": "02e62bf3",
      "metadata": {
        "id": "02e62bf3"
      },
      "source": [
        "Recupera los cinco últimos pisos:"
      ]
    },
    {
      "cell_type": "markdown",
      "id": "1671f2ca",
      "metadata": {
        "id": "1671f2ca"
      },
      "source": [
        "Muestra los campos Inmobiliaria y Tipo de inmueble de los tres últimos pisos:"
      ]
    },
    {
      "cell_type": "markdown",
      "id": "bad2b17d",
      "metadata": {
        "id": "bad2b17d"
      },
      "source": [
        "## EJERCICIO 12"
      ]
    },
    {
      "cell_type": "markdown",
      "id": "bc18b640",
      "metadata": {
        "id": "bc18b640"
      },
      "source": [
        "Las columnas Domótica, Pista de Tenis, Alarma, Mascotas, Energía Solar y Gimnasio no contienen apenas valores definidos. Elimínalas del DataFrame y almacena el resultado en fotocasa1_df:"
      ]
    },
    {
      "cell_type": "markdown",
      "id": "66e14b8f",
      "metadata": {
        "id": "66e14b8f"
      },
      "source": [
        "## EJERCICIO 13"
      ]
    },
    {
      "cell_type": "markdown",
      "id": "ef449a83",
      "metadata": {
        "id": "ef449a83"
      },
      "source": [
        "Renombra a continuación la columna Tipo de inmueble de fotocasa1_df por Tipo. Asigna el resultado a la variable fotocasa2_df:"
      ]
    },
    {
      "cell_type": "markdown",
      "id": "5d8cb243",
      "metadata": {
        "id": "5d8cb243"
      },
      "source": [
        "## EJERCICIO 14"
      ]
    },
    {
      "cell_type": "markdown",
      "id": "f235bf13",
      "metadata": {
        "id": "f235bf13"
      },
      "source": [
        "Elimina del DataFrame aquellos pisos que no tienen Precio o que su Precio sea \"A consultar\". Asigna el resultado a la variable fotocasa4_df:\n",
        "\n",
        "PISTA: para seleccionar los alquileres sin precio utiliza el método isnull(). Utiliza notnull() para seleccionar los alquileres con precio.."
      ]
    },
    {
      "cell_type": "markdown",
      "id": "7c5bac3c",
      "metadata": {
        "id": "7c5bac3c"
      },
      "source": [
        "## EJERCICIO 15"
      ]
    },
    {
      "cell_type": "markdown",
      "id": "ed66bd5b",
      "metadata": {
        "id": "ed66bd5b"
      },
      "source": [
        "Utiliza la función astype para convertir las columnas Tipo, Orientación, Estado y Parking a tipo categórico. Asigna los resultados a la variable fotocasa5_df y comprueba mediante el parámetro dtype que el tipo asignado sea correcto:"
      ]
    },
    {
      "cell_type": "markdown",
      "id": "2223ff4c",
      "metadata": {
        "id": "2223ff4c"
      },
      "source": [
        "## EJERCICIO 16"
      ]
    },
    {
      "cell_type": "markdown",
      "id": "df0c3d80",
      "metadata": {
        "id": "df0c3d80"
      },
      "source": [
        "Cargar el fichero situado en https://raw.githubusercontent.com/ainaramu-icjardin/big_data/main/ciudades_ejemplo.csv\n",
        "como un dataframe Pandas, y guardarlo a continuación en formato excel."
      ]
    },
    {
      "cell_type": "markdown",
      "id": "a6304ee6",
      "metadata": {
        "id": "a6304ee6"
      },
      "source": [
        "## EJERCICIO 17"
      ]
    },
    {
      "cell_type": "markdown",
      "id": "788c7d0a",
      "metadata": {
        "id": "788c7d0a"
      },
      "source": [
        "Cargar el fichero \"https://raw.githubusercontent.com/ainaramu-icjardin/big_data/main/parocomunidades.csv\" que está con codificación (encoding) \"latin1\" y dejarlo en un dataframe df_paro.\n",
        "\n",
        "Mostrar solo las filas de `df_paro` que corresponden al Periodo 2019.\n",
        "\n",
        "Mostrar solo las filas de df_paro que corresponden a un total mayor de 15.\n",
        "\n",
        "Mostrar solo las filas que corresponden al Periodo 2019 y tienen Total mayor de 15."
      ]
    },
    {
      "cell_type": "markdown",
      "id": "d4499388",
      "metadata": {
        "id": "d4499388"
      },
      "source": [
        "## <ins>Ejercicios Opcionales </ins>"
      ]
    },
    {
      "cell_type": "markdown",
      "id": "e207b56d",
      "metadata": {
        "id": "e207b56d"
      },
      "source": [
        "## EJERCICIO 18"
      ]
    },
    {
      "cell_type": "markdown",
      "id": "052f87b0",
      "metadata": {
        "id": "052f87b0"
      },
      "source": [
        "Investiga el método .sort_values() para ordenar las observaciones según la longitud de las palabras en orden descendente."
      ]
    },
    {
      "cell_type": "markdown",
      "id": "2639e1ab",
      "metadata": {
        "id": "2639e1ab"
      },
      "source": [
        "## EJERCICIO 19"
      ]
    },
    {
      "cell_type": "markdown",
      "id": "3196772c",
      "metadata": {
        "id": "3196772c"
      },
      "source": [
        "Convierte la columna vowels a lista y, con sorted() ordénala de mayor a menor. Investiga para ello el método .tolist()."
      ]
    },
    {
      "cell_type": "markdown",
      "id": "61777947",
      "metadata": {
        "id": "61777947"
      },
      "source": [
        "## EJERCICIO 20"
      ]
    },
    {
      "cell_type": "markdown",
      "id": "17af4349",
      "metadata": {
        "id": "17af4349"
      },
      "source": [
        "Recupera aquellos pisos que ocupan una posición múltiplo de 100:"
      ]
    },
    {
      "cell_type": "markdown",
      "id": "274661d0",
      "metadata": {
        "id": "274661d0"
      },
      "source": [
        "## EJERCICIO 21"
      ]
    },
    {
      "cell_type": "markdown",
      "id": "b6ad7a6f",
      "metadata": {
        "id": "b6ad7a6f"
      },
      "source": [
        "Muestra el piso que se encuentra en la posición 7:"
      ]
    },
    {
      "cell_type": "markdown",
      "id": "edbe24c0",
      "metadata": {
        "id": "edbe24c0"
      },
      "source": [
        "## EJERCICIO 22"
      ]
    },
    {
      "cell_type": "markdown",
      "id": "cc54c300",
      "metadata": {
        "id": "cc54c300"
      },
      "source": [
        "Muestra el piso cuyo índice vale 9:"
      ]
    },
    {
      "cell_type": "markdown",
      "id": "c543d072",
      "metadata": {
        "id": "c543d072"
      },
      "source": [
        "## EJERCICIO 23"
      ]
    },
    {
      "cell_type": "markdown",
      "id": "f9d437ee",
      "metadata": {
        "id": "f9d437ee"
      },
      "source": [
        "Muestra el campo Dirección de los tres primeros pisos. Utiliza para ello tanto el operador ```[]``` como ```[[]]```. ¿Qué diferencia encuentras?"
      ]
    },
    {
      "cell_type": "markdown",
      "id": "91951d7d",
      "metadata": {
        "id": "91951d7d"
      },
      "source": [
        "## EJERCICIO 24"
      ]
    },
    {
      "cell_type": "markdown",
      "id": "381312d3",
      "metadata": {
        "id": "381312d3"
      },
      "source": [
        "Muestra los campos Inmobiliaria y Tipo de inmueble de los tres últimos pisos:"
      ]
    },
    {
      "cell_type": "markdown",
      "id": "5626bf1b",
      "metadata": {
        "id": "5626bf1b"
      },
      "source": [
        "## EJERCICIO 25"
      ]
    },
    {
      "cell_type": "markdown",
      "id": "a3e08a47",
      "metadata": {
        "id": "a3e08a47"
      },
      "source": [
        "Muestra el valor del DataFrame contenido en la posición (2,2):"
      ]
    },
    {
      "cell_type": "markdown",
      "id": "38293350",
      "metadata": {
        "id": "38293350"
      },
      "source": [
        "## EJERCICIO 26"
      ]
    },
    {
      "cell_type": "markdown",
      "id": "460d4de1",
      "metadata": {
        "id": "460d4de1"
      },
      "source": [
        "Muestra el valor del DataFrame cuyo índice es 2 y cuya columna es Título:"
      ]
    },
    {
      "cell_type": "markdown",
      "id": "3d59e291",
      "metadata": {
        "id": "3d59e291"
      },
      "source": [
        "## EJERCICIO 27"
      ]
    },
    {
      "cell_type": "markdown",
      "id": "90422333",
      "metadata": {
        "id": "90422333"
      },
      "source": [
        "Muestra los tres primeros inmuebles de Tipo de inmueble = Apartamento:"
      ]
    },
    {
      "cell_type": "markdown",
      "id": "4782f1d2",
      "metadata": {
        "id": "4782f1d2"
      },
      "source": [
        "## EJERCICIO 28"
      ]
    },
    {
      "cell_type": "markdown",
      "id": "b6e5cbaf",
      "metadata": {
        "id": "b6e5cbaf"
      },
      "source": [
        "Muestra los dos primeros inmuebles de Tipo de inmueble = Piso y que no se alquilen por inmobiliaria (Inmobiliaria = False):"
      ]
    },
    {
      "cell_type": "markdown",
      "id": "f2d48ba8",
      "metadata": {
        "id": "f2d48ba8"
      },
      "source": [
        "## EJERCICIO 29"
      ]
    },
    {
      "cell_type": "markdown",
      "id": "18e1b9ff",
      "metadata": {
        "id": "18e1b9ff"
      },
      "source": [
        "Elimina del DataFrame contenido en fotocasa2_df los alquileres de la posición 597 y 598. Asigna el resultado a fotocasa3_df:"
      ]
    }
  ],
  "metadata": {
    "kernelspec": {
      "display_name": "Python 3 (ipykernel)",
      "language": "python",
      "name": "python3"
    },
    "language_info": {
      "codemirror_mode": {
        "name": "ipython",
        "version": 3
      },
      "file_extension": ".py",
      "mimetype": "text/x-python",
      "name": "python",
      "nbconvert_exporter": "python",
      "pygments_lexer": "ipython3",
      "version": "3.10.12"
    },
    "colab": {
      "provenance": []
    }
  },
  "nbformat": 4,
  "nbformat_minor": 5
}